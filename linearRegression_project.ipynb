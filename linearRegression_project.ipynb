{
  "nbformat": 4,
  "nbformat_minor": 0,
  "metadata": {
    "colab": {
      "name": "linearRegression_project.ipynb",
      "provenance": [],
      "collapsed_sections": [],
      "authorship_tag": "ABX9TyO3UXnvsF9f2u0/znYSaz78",
      "include_colab_link": true
    },
    "kernelspec": {
      "name": "python3",
      "display_name": "Python 3"
    }
  },
  "cells": [
    {
      "cell_type": "markdown",
      "metadata": {
        "id": "view-in-github",
        "colab_type": "text"
      },
      "source": [
        "<a href=\"https://colab.research.google.com/github/x7rishi/Boston_housing_ML/blob/master/linearRegression_project.ipynb\" target=\"_parent\"><img src=\"https://colab.research.google.com/assets/colab-badge.svg\" alt=\"Open In Colab\"/></a>"
      ]
    },
    {
      "cell_type": "code",
      "metadata": {
        "id": "YPhGovLa3VsF",
        "colab_type": "code",
        "colab": {}
      },
      "source": [
        "import numpy as np\n",
        "import pandas as pd\n",
        "import matplotlib as npl \n",
        "import matplotlib.pyplot as plt\n",
        "\n",
        "\n",
        "from matplotlib.animation import FuncAnimation as Fa \n",
        "from matplotlib.animation import writers\n",
        "from sklearn.datasets import load_boston \n",
        "from sklearn.metrics import mean_squared_error \n",
        "from sklearn.model_selection import train_test_split \n",
        "from sklearn.preprocessing import MinMaxScaler\n",
        "\n",
        "from IPython.display import HTML\n",
        "from pprint import pprint\n"
      ],
      "execution_count": 53,
      "outputs": []
    },
    {
      "cell_type": "code",
      "metadata": {
        "id": "L2yUcUXI4BMS",
        "colab_type": "code",
        "colab": {
          "base_uri": "https://localhost:8080/",
          "height": 255
        },
        "outputId": "dfadbfd3-9d4c-49d2-e921-e647a7c5c3de"
      },
      "source": [
        "boston = load_boston() \n",
        "features = pd.DataFrame(boston.data, columns = boston.feature_names)\n",
        "print(features)"
      ],
      "execution_count": 54,
      "outputs": [
        {
          "output_type": "stream",
          "text": [
            "        CRIM    ZN  INDUS  CHAS    NOX  ...  RAD    TAX  PTRATIO       B  LSTAT\n",
            "0    0.00632  18.0   2.31   0.0  0.538  ...  1.0  296.0     15.3  396.90   4.98\n",
            "1    0.02731   0.0   7.07   0.0  0.469  ...  2.0  242.0     17.8  396.90   9.14\n",
            "2    0.02729   0.0   7.07   0.0  0.469  ...  2.0  242.0     17.8  392.83   4.03\n",
            "3    0.03237   0.0   2.18   0.0  0.458  ...  3.0  222.0     18.7  394.63   2.94\n",
            "4    0.06905   0.0   2.18   0.0  0.458  ...  3.0  222.0     18.7  396.90   5.33\n",
            "..       ...   ...    ...   ...    ...  ...  ...    ...      ...     ...    ...\n",
            "501  0.06263   0.0  11.93   0.0  0.573  ...  1.0  273.0     21.0  391.99   9.67\n",
            "502  0.04527   0.0  11.93   0.0  0.573  ...  1.0  273.0     21.0  396.90   9.08\n",
            "503  0.06076   0.0  11.93   0.0  0.573  ...  1.0  273.0     21.0  396.90   5.64\n",
            "504  0.10959   0.0  11.93   0.0  0.573  ...  1.0  273.0     21.0  393.45   6.48\n",
            "505  0.04741   0.0  11.93   0.0  0.573  ...  1.0  273.0     21.0  396.90   7.88\n",
            "\n",
            "[506 rows x 13 columns]\n"
          ],
          "name": "stdout"
        }
      ]
    },
    {
      "cell_type": "code",
      "metadata": {
        "id": "2-NK0kaI4Kse",
        "colab_type": "code",
        "colab": {}
      },
      "source": [
        "target = pd.DataFrame(boston.target, columns = ['target'])"
      ],
      "execution_count": 55,
      "outputs": []
    },
    {
      "cell_type": "code",
      "metadata": {
        "id": "uVw7jjHk4RlA",
        "colab_type": "code",
        "colab": {
          "base_uri": "https://localhost:8080/",
          "height": 255
        },
        "outputId": "9b91d532-f9cd-4827-a379-e38b73836517"
      },
      "source": [
        "print(features)"
      ],
      "execution_count": 56,
      "outputs": [
        {
          "output_type": "stream",
          "text": [
            "        CRIM    ZN  INDUS  CHAS    NOX  ...  RAD    TAX  PTRATIO       B  LSTAT\n",
            "0    0.00632  18.0   2.31   0.0  0.538  ...  1.0  296.0     15.3  396.90   4.98\n",
            "1    0.02731   0.0   7.07   0.0  0.469  ...  2.0  242.0     17.8  396.90   9.14\n",
            "2    0.02729   0.0   7.07   0.0  0.469  ...  2.0  242.0     17.8  392.83   4.03\n",
            "3    0.03237   0.0   2.18   0.0  0.458  ...  3.0  222.0     18.7  394.63   2.94\n",
            "4    0.06905   0.0   2.18   0.0  0.458  ...  3.0  222.0     18.7  396.90   5.33\n",
            "..       ...   ...    ...   ...    ...  ...  ...    ...      ...     ...    ...\n",
            "501  0.06263   0.0  11.93   0.0  0.573  ...  1.0  273.0     21.0  391.99   9.67\n",
            "502  0.04527   0.0  11.93   0.0  0.573  ...  1.0  273.0     21.0  396.90   9.08\n",
            "503  0.06076   0.0  11.93   0.0  0.573  ...  1.0  273.0     21.0  396.90   5.64\n",
            "504  0.10959   0.0  11.93   0.0  0.573  ...  1.0  273.0     21.0  393.45   6.48\n",
            "505  0.04741   0.0  11.93   0.0  0.573  ...  1.0  273.0     21.0  396.90   7.88\n",
            "\n",
            "[506 rows x 13 columns]\n"
          ],
          "name": "stdout"
        }
      ]
    },
    {
      "cell_type": "code",
      "metadata": {
        "id": "2Sefokd54bYe",
        "colab_type": "code",
        "colab": {
          "base_uri": "https://localhost:8080/",
          "height": 419
        },
        "outputId": "2e3816c1-4b90-4014-d601-92db13d2055b"
      },
      "source": [
        "df = pd.concat([features,target],axis = 1)\n",
        "df "
      ],
      "execution_count": 57,
      "outputs": [
        {
          "output_type": "execute_result",
          "data": {
            "text/html": [
              "<div>\n",
              "<style scoped>\n",
              "    .dataframe tbody tr th:only-of-type {\n",
              "        vertical-align: middle;\n",
              "    }\n",
              "\n",
              "    .dataframe tbody tr th {\n",
              "        vertical-align: top;\n",
              "    }\n",
              "\n",
              "    .dataframe thead th {\n",
              "        text-align: right;\n",
              "    }\n",
              "</style>\n",
              "<table border=\"1\" class=\"dataframe\">\n",
              "  <thead>\n",
              "    <tr style=\"text-align: right;\">\n",
              "      <th></th>\n",
              "      <th>CRIM</th>\n",
              "      <th>ZN</th>\n",
              "      <th>INDUS</th>\n",
              "      <th>CHAS</th>\n",
              "      <th>NOX</th>\n",
              "      <th>RM</th>\n",
              "      <th>AGE</th>\n",
              "      <th>DIS</th>\n",
              "      <th>RAD</th>\n",
              "      <th>TAX</th>\n",
              "      <th>PTRATIO</th>\n",
              "      <th>B</th>\n",
              "      <th>LSTAT</th>\n",
              "      <th>target</th>\n",
              "    </tr>\n",
              "  </thead>\n",
              "  <tbody>\n",
              "    <tr>\n",
              "      <th>0</th>\n",
              "      <td>0.00632</td>\n",
              "      <td>18.0</td>\n",
              "      <td>2.31</td>\n",
              "      <td>0.0</td>\n",
              "      <td>0.538</td>\n",
              "      <td>6.575</td>\n",
              "      <td>65.2</td>\n",
              "      <td>4.0900</td>\n",
              "      <td>1.0</td>\n",
              "      <td>296.0</td>\n",
              "      <td>15.3</td>\n",
              "      <td>396.90</td>\n",
              "      <td>4.98</td>\n",
              "      <td>24.0</td>\n",
              "    </tr>\n",
              "    <tr>\n",
              "      <th>1</th>\n",
              "      <td>0.02731</td>\n",
              "      <td>0.0</td>\n",
              "      <td>7.07</td>\n",
              "      <td>0.0</td>\n",
              "      <td>0.469</td>\n",
              "      <td>6.421</td>\n",
              "      <td>78.9</td>\n",
              "      <td>4.9671</td>\n",
              "      <td>2.0</td>\n",
              "      <td>242.0</td>\n",
              "      <td>17.8</td>\n",
              "      <td>396.90</td>\n",
              "      <td>9.14</td>\n",
              "      <td>21.6</td>\n",
              "    </tr>\n",
              "    <tr>\n",
              "      <th>2</th>\n",
              "      <td>0.02729</td>\n",
              "      <td>0.0</td>\n",
              "      <td>7.07</td>\n",
              "      <td>0.0</td>\n",
              "      <td>0.469</td>\n",
              "      <td>7.185</td>\n",
              "      <td>61.1</td>\n",
              "      <td>4.9671</td>\n",
              "      <td>2.0</td>\n",
              "      <td>242.0</td>\n",
              "      <td>17.8</td>\n",
              "      <td>392.83</td>\n",
              "      <td>4.03</td>\n",
              "      <td>34.7</td>\n",
              "    </tr>\n",
              "    <tr>\n",
              "      <th>3</th>\n",
              "      <td>0.03237</td>\n",
              "      <td>0.0</td>\n",
              "      <td>2.18</td>\n",
              "      <td>0.0</td>\n",
              "      <td>0.458</td>\n",
              "      <td>6.998</td>\n",
              "      <td>45.8</td>\n",
              "      <td>6.0622</td>\n",
              "      <td>3.0</td>\n",
              "      <td>222.0</td>\n",
              "      <td>18.7</td>\n",
              "      <td>394.63</td>\n",
              "      <td>2.94</td>\n",
              "      <td>33.4</td>\n",
              "    </tr>\n",
              "    <tr>\n",
              "      <th>4</th>\n",
              "      <td>0.06905</td>\n",
              "      <td>0.0</td>\n",
              "      <td>2.18</td>\n",
              "      <td>0.0</td>\n",
              "      <td>0.458</td>\n",
              "      <td>7.147</td>\n",
              "      <td>54.2</td>\n",
              "      <td>6.0622</td>\n",
              "      <td>3.0</td>\n",
              "      <td>222.0</td>\n",
              "      <td>18.7</td>\n",
              "      <td>396.90</td>\n",
              "      <td>5.33</td>\n",
              "      <td>36.2</td>\n",
              "    </tr>\n",
              "    <tr>\n",
              "      <th>...</th>\n",
              "      <td>...</td>\n",
              "      <td>...</td>\n",
              "      <td>...</td>\n",
              "      <td>...</td>\n",
              "      <td>...</td>\n",
              "      <td>...</td>\n",
              "      <td>...</td>\n",
              "      <td>...</td>\n",
              "      <td>...</td>\n",
              "      <td>...</td>\n",
              "      <td>...</td>\n",
              "      <td>...</td>\n",
              "      <td>...</td>\n",
              "      <td>...</td>\n",
              "    </tr>\n",
              "    <tr>\n",
              "      <th>501</th>\n",
              "      <td>0.06263</td>\n",
              "      <td>0.0</td>\n",
              "      <td>11.93</td>\n",
              "      <td>0.0</td>\n",
              "      <td>0.573</td>\n",
              "      <td>6.593</td>\n",
              "      <td>69.1</td>\n",
              "      <td>2.4786</td>\n",
              "      <td>1.0</td>\n",
              "      <td>273.0</td>\n",
              "      <td>21.0</td>\n",
              "      <td>391.99</td>\n",
              "      <td>9.67</td>\n",
              "      <td>22.4</td>\n",
              "    </tr>\n",
              "    <tr>\n",
              "      <th>502</th>\n",
              "      <td>0.04527</td>\n",
              "      <td>0.0</td>\n",
              "      <td>11.93</td>\n",
              "      <td>0.0</td>\n",
              "      <td>0.573</td>\n",
              "      <td>6.120</td>\n",
              "      <td>76.7</td>\n",
              "      <td>2.2875</td>\n",
              "      <td>1.0</td>\n",
              "      <td>273.0</td>\n",
              "      <td>21.0</td>\n",
              "      <td>396.90</td>\n",
              "      <td>9.08</td>\n",
              "      <td>20.6</td>\n",
              "    </tr>\n",
              "    <tr>\n",
              "      <th>503</th>\n",
              "      <td>0.06076</td>\n",
              "      <td>0.0</td>\n",
              "      <td>11.93</td>\n",
              "      <td>0.0</td>\n",
              "      <td>0.573</td>\n",
              "      <td>6.976</td>\n",
              "      <td>91.0</td>\n",
              "      <td>2.1675</td>\n",
              "      <td>1.0</td>\n",
              "      <td>273.0</td>\n",
              "      <td>21.0</td>\n",
              "      <td>396.90</td>\n",
              "      <td>5.64</td>\n",
              "      <td>23.9</td>\n",
              "    </tr>\n",
              "    <tr>\n",
              "      <th>504</th>\n",
              "      <td>0.10959</td>\n",
              "      <td>0.0</td>\n",
              "      <td>11.93</td>\n",
              "      <td>0.0</td>\n",
              "      <td>0.573</td>\n",
              "      <td>6.794</td>\n",
              "      <td>89.3</td>\n",
              "      <td>2.3889</td>\n",
              "      <td>1.0</td>\n",
              "      <td>273.0</td>\n",
              "      <td>21.0</td>\n",
              "      <td>393.45</td>\n",
              "      <td>6.48</td>\n",
              "      <td>22.0</td>\n",
              "    </tr>\n",
              "    <tr>\n",
              "      <th>505</th>\n",
              "      <td>0.04741</td>\n",
              "      <td>0.0</td>\n",
              "      <td>11.93</td>\n",
              "      <td>0.0</td>\n",
              "      <td>0.573</td>\n",
              "      <td>6.030</td>\n",
              "      <td>80.8</td>\n",
              "      <td>2.5050</td>\n",
              "      <td>1.0</td>\n",
              "      <td>273.0</td>\n",
              "      <td>21.0</td>\n",
              "      <td>396.90</td>\n",
              "      <td>7.88</td>\n",
              "      <td>11.9</td>\n",
              "    </tr>\n",
              "  </tbody>\n",
              "</table>\n",
              "<p>506 rows × 14 columns</p>\n",
              "</div>"
            ],
            "text/plain": [
              "        CRIM    ZN  INDUS  CHAS    NOX  ...    TAX  PTRATIO       B  LSTAT  target\n",
              "0    0.00632  18.0   2.31   0.0  0.538  ...  296.0     15.3  396.90   4.98    24.0\n",
              "1    0.02731   0.0   7.07   0.0  0.469  ...  242.0     17.8  396.90   9.14    21.6\n",
              "2    0.02729   0.0   7.07   0.0  0.469  ...  242.0     17.8  392.83   4.03    34.7\n",
              "3    0.03237   0.0   2.18   0.0  0.458  ...  222.0     18.7  394.63   2.94    33.4\n",
              "4    0.06905   0.0   2.18   0.0  0.458  ...  222.0     18.7  396.90   5.33    36.2\n",
              "..       ...   ...    ...   ...    ...  ...    ...      ...     ...    ...     ...\n",
              "501  0.06263   0.0  11.93   0.0  0.573  ...  273.0     21.0  391.99   9.67    22.4\n",
              "502  0.04527   0.0  11.93   0.0  0.573  ...  273.0     21.0  396.90   9.08    20.6\n",
              "503  0.06076   0.0  11.93   0.0  0.573  ...  273.0     21.0  396.90   5.64    23.9\n",
              "504  0.10959   0.0  11.93   0.0  0.573  ...  273.0     21.0  393.45   6.48    22.0\n",
              "505  0.04741   0.0  11.93   0.0  0.573  ...  273.0     21.0  396.90   7.88    11.9\n",
              "\n",
              "[506 rows x 14 columns]"
            ]
          },
          "metadata": {
            "tags": []
          },
          "execution_count": 57
        }
      ]
    },
    {
      "cell_type": "code",
      "metadata": {
        "id": "zVxZy_6p4iLP",
        "colab_type": "code",
        "colab": {
          "base_uri": "https://localhost:8080/",
          "height": 533
        },
        "outputId": "a324e06f-683f-4e14-e275-ec964d71bd27"
      },
      "source": [
        "corr = df.corr('pearson')\n",
        "corrs = [abs(corr[attr]['target']) for attr in list(features)]\n",
        "l = list(zip(corrs,list(features)))\n",
        "l.sort(key= lambda x: x[0],reverse = True)\n",
        "pprint(l)\n",
        "corrs,labels = list(zip((*l)))\n",
        "\n",
        "index = np.arange(len(labels))\n",
        "\n",
        "plt.figure(figsize = (15,5))\n",
        "plt.bar(index,corrs,width=0.5)\n",
        "plt.xlabel('Attributes')\n",
        "plt.ylabel('Correlation with the target variable')\n",
        "plt.xticks(index,labels)\n",
        "plt.show() "
      ],
      "execution_count": 58,
      "outputs": [
        {
          "output_type": "stream",
          "text": [
            "[(0.7376627261740143, 'LSTAT'),\n",
            " (0.6953599470715389, 'RM'),\n",
            " (0.507786685537561, 'PTRATIO'),\n",
            " (0.483725160028373, 'INDUS'),\n",
            " (0.46853593356776646, 'TAX'),\n",
            " (0.4273207723732817, 'NOX'),\n",
            " (0.3883046085868114, 'CRIM'),\n",
            " (0.3816262306397776, 'RAD'),\n",
            " (0.3769545650045959, 'AGE'),\n",
            " (0.3604453424505447, 'ZN'),\n",
            " (0.33346081965706653, 'B'),\n",
            " (0.24992873408590394, 'DIS'),\n",
            " (0.1752601771902975, 'CHAS')]\n"
          ],
          "name": "stdout"
        },
        {
          "output_type": "display_data",
          "data": {
            "image/png": "[encoded data removed]",
            "text/plain": [
              "<Figure size 1080x360 with 1 Axes>"
            ]
          },
          "metadata": {
            "tags": [],
            "needs_background": "light"
          }
        }
      ]
    },
    {
      "cell_type": "code",
      "metadata": {
        "id": "LtZr23H-6TsC",
        "colab_type": "code",
        "colab": {}
      },
      "source": [
        "X = df['LSTAT'].values\n",
        "Y = df['target'].values"
      ],
      "execution_count": 59,
      "outputs": []
    },
    {
      "cell_type": "code",
      "metadata": {
        "id": "jNyt8NL34vkT",
        "colab_type": "code",
        "colab": {
          "base_uri": "https://localhost:8080/",
          "height": 136
        },
        "outputId": "c627ba4e-4610-486b-ec44-4fb7f9d32b4d"
      },
      "source": [
        "x_scaler = MinMaxScaler() \n",
        "y_scaler = MinMaxScaler() \n",
        "\n",
        "\n",
        "X = x_scaler.fit_transform(X.reshape(-1,1))\n",
        "pprint(X[:5])\n",
        "X=X[:,-1]\n",
        "pprint(X[:4])\n",
        "\n",
        "Y = y_scaler.fit_transform(Y.reshape(-1,1))\n",
        "\n",
        "Y = Y[:,-1]\n",
        "print(len(Y))"
      ],
      "execution_count": 60,
      "outputs": [
        {
          "output_type": "stream",
          "text": [
            "array([[0.08967991],\n",
            "       [0.2044702 ],\n",
            "       [0.06346578],\n",
            "       [0.03338852],\n",
            "       [0.09933775]])\n",
            "array([0.08967991, 0.2044702 , 0.06346578, 0.03338852])\n",
            "506\n"
          ],
          "name": "stdout"
        }
      ]
    },
    {
      "cell_type": "code",
      "metadata": {
        "id": "bgpwfize6Zag",
        "colab_type": "code",
        "colab": {}
      },
      "source": [
        "def error(m,x,c,t) : \n",
        "  N = x.size\n",
        "  e = sum(((m*x+c)-t)**2)\n",
        "  return(e/(2*N))"
      ],
      "execution_count": 61,
      "outputs": []
    },
    {
      "cell_type": "code",
      "metadata": {
        "id": "NY6KWJKa6p_v",
        "colab_type": "code",
        "colab": {
          "base_uri": "https://localhost:8080/",
          "height": 51
        },
        "outputId": "6e3ef536-e712-4d0e-ded9-071512fe9778"
      },
      "source": [
        "xtrain,xtest,ytrain,ytest = train_test_split(X,Y,test_size=0.2)\n",
        "print(len(xtrain))\n",
        "print(len(xtest))"
      ],
      "execution_count": 62,
      "outputs": [
        {
          "output_type": "stream",
          "text": [
            "404\n",
            "102\n"
          ],
          "name": "stdout"
        }
      ]
    },
    {
      "cell_type": "code",
      "metadata": {
        "id": "It9qInZ26x6l",
        "colab_type": "code",
        "colab": {}
      },
      "source": [
        "def update(m,x,c,t,learning_rate) : \n",
        "  grad_m = sum(2*((m*x+c)-t)*x)\n",
        "  grad_c = sum(2*((m*x+c)-t))\n",
        "  m = m - grad_m*learning_rate\n",
        "  c = c- grad_c*learning_rate\n",
        "  return m,c"
      ],
      "execution_count": 63,
      "outputs": []
    },
    {
      "cell_type": "code",
      "metadata": {
        "id": "P_HhJE4thNvz",
        "colab_type": "code",
        "colab": {
          "base_uri": "https://localhost:8080/",
          "height": 34
        },
        "outputId": "f2e4a17e-d179-4813-8fda-553264a319bd"
      },
      "source": [
        "e2 = error(0.8,xtrain,0,ytrain)\n",
        "print(e2)"
      ],
      "execution_count": 64,
      "outputs": [
        {
          "output_type": "stream",
          "text": [
            "0.06822856543486609\n"
          ],
          "name": "stdout"
        }
      ]
    },
    {
      "cell_type": "code",
      "metadata": {
        "id": "HC7isOhR7KLf",
        "colab_type": "code",
        "colab": {}
      },
      "source": [
        "def grad_descent(init_m, init_c, x,t,learning_rate,iterations,error_threshold) : \n",
        "  m = init_m \n",
        "  c = init_c \n",
        "  error_values = list() \n",
        "  mc_values = list() \n",
        "  for i in range(iterations) : \n",
        "    e = error(m,x,c,t)\n",
        "    if e < error_threshold : \n",
        "      print(\"Error < threshold. Stopping gradient Descent\")\n",
        "      break \n",
        "    error_values.append(e)\n",
        "    m,c = update(m,x,c,t,learning_rate) \n",
        "    mc_values.append((m,c))\n",
        "  return m,c,error_values,mc_values "
      ],
      "execution_count": 65,
      "outputs": []
    },
    {
      "cell_type": "code",
      "metadata": {
        "id": "owQopQNU7zQT",
        "colab_type": "code",
        "colab": {
          "base_uri": "https://localhost:8080/",
          "height": 51
        },
        "outputId": "b51317da-b707-4cda-a1d7-8ca6cc558c3f"
      },
      "source": [
        "%%time \n",
        "init_m = 0.9\n",
        "init_c = 0 \n",
        "learning_rate = 0.001\n",
        "iterations = 500 \n",
        "error_threshold = 0.001\n",
        "m,c,error_values , mc_values = grad_descent(init_m,init_c, xtrain,ytrain,learning_rate,iterations,error_threshold)"
      ],
      "execution_count": 66,
      "outputs": [
        {
          "output_type": "stream",
          "text": [
            "CPU times: user 118 ms, sys: 980 µs, total: 118 ms\n",
            "Wall time: 124 ms\n"
          ],
          "name": "stdout"
        }
      ]
    },
    {
      "cell_type": "code",
      "metadata": {
        "id": "IblB3G418MVv",
        "colab_type": "code",
        "colab": {
          "base_uri": "https://localhost:8080/",
          "height": 34
        },
        "outputId": "13947e02-131f-459b-c291-2dfaeeb2043a"
      },
      "source": [
        "mc_values[0][:2]"
      ],
      "execution_count": 67,
      "outputs": [
        {
          "output_type": "execute_result",
          "data": {
            "text/plain": [
              "(0.8722661687505178, 0.08713357983811626)"
            ]
          },
          "metadata": {
            "tags": []
          },
          "execution_count": 67
        }
      ]
    },
    {
      "cell_type": "code",
      "metadata": {
        "id": "K_L9RrYq8RWh",
        "colab_type": "code",
        "colab": {
          "base_uri": "https://localhost:8080/",
          "height": 587
        },
        "outputId": "9dd3e6be-7854-449a-f03d-978cf6bbefe7"
      },
      "source": [
        "mc_values_anim = mc_values[0:250:5]\n",
        "fig,ax = plt.subplots()\n",
        "ln, = plt.plot([],[],'ro-',animated = True)\n",
        "writer = writers['ffmpeg']\n",
        "writer = writer(fps=15,metadata = dict(artist='Rishi K.'),bitrate=1000)\n",
        "\n",
        "def init() : \n",
        "  plt.scatter(xtest,ytest,color='g')\n",
        "  ax.set_xlim(0,1.0)\n",
        "  ax.set_ylim(0,1.0)\n",
        "  ax.set_xlabel('xtest')\n",
        "  ax.set_ylabel('ytest')\n",
        "  ax.set_title('Boston house model visualization')\n",
        "  ln.set_data([],[])\n",
        "  return ln,\n",
        "def Update(frame) : \n",
        "  m,c = mc_values_anim[frame]\n",
        "  x1,y1 = -0.5, (m*(-0.5))+c\n",
        "  x2,y2 = 1.5,  (m*1.5)+c\n",
        "  ln.set_data([x1,x2],[y1,y2])\n",
        "  return ln, \n",
        "def update_frame(frame) : \n",
        "  m,c = mc_values_anim[Frame]\n",
        "  for i in range(len(m)) : \n",
        "    x1,y1 = -0.5, (m[i]*(-0.5))+c[i]\n",
        "    x2,y2 = 1.5,(m[i]*1.5)+c[i]\n",
        "    ln.set_data([x1,x2],[y1,y2])\n",
        "    return ln,\n",
        "\n",
        "anim = Fa(fig,Update,frames = range(len(mc_values_anim)),interval=50,init_func=init,blit=True)\n",
        "HTML(anim.to_html5_video())\n",
        "\n"
      ],
      "execution_count": 68,
      "outputs": [
        {
          "output_type": "execute_result",
          "data": {
            "text/html": [
              "<video width=\"432\" height=\"288\" controls autoplay loop>\n",
              "  <source type=\"video/mp4\" src=\"data:video/mp4;base64,AAAAHGZ0eXBNNFYgAAACAGlzb21pc28yYXZjMQAAAAhmcmVlAABzdG1kYXQAAAKuBgX//6rcRem9\n",
              "5tlIt5Ys2CDZI+7veDI2NCAtIGNvcmUgMTUyIHIyODU0IGU5YTU5MDMgLSBILjI2NC9NUEVHLTQg\n",
              "QVZDIGNvZGVjIC0gQ29weWxlZnQgMjAwMy0yMDE3IC0gaHR0cDovL3d3dy52aWRlb2xhbi5vcmcv\n",
              "eDI2NC5odG1sIC0gb3B0aW9uczogY2FiYWM9MSByZWY9MyBkZWJsb2NrPTE6MDowIGFuYWx5c2U9\n",
              "MHgzOjB4MTEzIG1lPWhleCBzdWJtZT03IHBzeT0xIHBzeV9yZD0xLjAwOjAuMDAgbWl4ZWRfcmVm\n",
              "PTEgbWVfcmFuZ2U9MTYgY2hyb21hX21lPTEgdHJlbGxpcz0xIDh4OGRjdD0xIGNxbT0wIGRlYWR6\n",
              "b25lPTIxLDExIGZhc3RfcHNraXA9MSBjaHJvbWFfcXBfb2Zmc2V0PS0yIHRocmVhZHM9MyBsb29r\n",
              "YWhlYWRfdGhyZWFkcz0xIHNsaWNlZF90aHJlYWRzPTAgbnI9MCBkZWNpbWF0ZT0xIGludGVybGFj\n",
              "ZWQ9MCBibHVyYXlfY29tcGF0PTAgY29uc3RyYWluZWRfaW50cmE9MCBiZnJhbWVzPTMgYl9weXJh\n",
              "bWlkPTIgYl9hZGFwdD0xIGJfYmlhcz0wIGRpcmVjdD0xIHdlaWdodGI9MSBvcGVuX2dvcD0wIHdl\n",
              "aWdodHA9MiBrZXlpbnQ9MjUwIGtleWludF9taW49MjAgc2NlbmVjdXQ9NDAgaW50cmFfcmVmcmVz\n",
              "aD0wIHJjX2xvb2thaGVhZD00MCByYz1jcmYgbWJ0cmVlPTEgY3JmPTIzLjAgcWNvbXA9MC42MCBx\n",
              "cG1pbj0wIHFwbWF4PTY5IHFwc3RlcD00IGlwX3JhdGlvPTEuNDAgYXE9MToxLjAwAIAAACePZYiE\n",
              "ADv//vdOvwKbRZdqA5JXCvbKpCZZuVJrAfKmAAADAAARsIY/wVXIzAeYFldu9y3XS0dnSwHuFznI\n",
              "xmHGsWGD2a3+KOmfMR9NXVleudx9IPyH+TyAm6aCzhg58huvt0XlPpU4YpjQzCqQv7YtGM26wfWJ\n",
              "kjjxu0RzOyjJXCucXiI9Q/9eDoSKj1nnlEQ0U5GCt5uC5ZfLQj5A9xww4CbcG/qOx7StspbB0JvP\n",
              "nbAhOi0wyV23npE8LMBqNxrwCD1qXvKwavKavGB5NUnWrajBY3AsEtOFru6JExPhju8w5N+B2WkQ\n",
              "xt9Semhy1iFXYaGf2zmT5mMDJKVNh0F/H84PFG/+uM5kXxAwU1EZZLGJpmLJ+eJ+gYGj9x/GtUTx\n",
              "bAHkg8FxhlKO1Waj0bMB077H7M1Mvlk3FJOglwIE0l1klC5EFv1LiY51yvd/eeB0em+tGMEkYMxK\n",
              "Bbdi56ToGC/kgWbXAH1zm69BTA+4GoLWjW3M7ifZsFiJjX91nMG0N6ijMy/iTK6WHo7RS/ZKjSzb\n",
              "s7NHXJZqs43BNN45iiGejAh3Gr7314bTuA2obM6wUuUj4+o+xsE0iToiammqqLXQvpg8I5K+vfQ+\n",
              "0IkLVwFWW3GocKf6Glc+YbkCYMNXNX0oAAizkSMG1mn9u2PS0VAt7O5qG9zcxhEUmV/NxA4vA8MT\n",
              "B396YGx0Dvd8JDR2p1WbwKVyyFDaPeoDamaaxUq4mCua6JdQadYH4U4ebZARPdKUS9r5Fc6Zpz2N\n",
              "ZcK5s0J3ffY64F2q7qLmP0OMQxztKfjc5wgPt+gVe0K/qWjWftOznt/PBbF0hkrsNIj0uD8Lqdet\n",
              "tskA/Qqi6WvedyrE9H0QKZcTP+Kb8O1VDbqjKkDKDUe0ce5B6KIZ6exbPZ/5Tx6gFw7NNuabhwlJ\n",
              "zzgBDXwYEHsBs9AiwUbB1o148gX56PFnDJ118HzU8AU/InA092lm8Y8tpW/bTShjIBsB/0eZEmpa\n",
              "uHWdmETUK2nXA1jd+YcYBI0K9dzC3keMkr1Do5S7Hr8QOS+044uT5U2w8RiTZgQDjg+cuBRS4Pvv\n",
              "QOiuty2RJsp7y3M+ojQtwps5Iyhiovqc/YMzi/phZZVhqn1m4FnqmINTJ9QlWfzphno2GXum+8+2\n",
              "xANV9JoUklybJ36fC5Eiy4I8ih+TE2BPW3mFEiNmLBGeYsdc8mggm1NIFZizw+H2CTlHQrsqK4Q7\n",
              "vNAoWrfOA+ZHc81fbXGb0fqoYICD/Ji6RNlXWYLdk0btT5I/04PypKjn/tg4VXl1d5knZLtvHY+b\n",
              "ZKCgB1RA6T7a5fdVqX7XaWrPK8KnAbcUMLiMvYvdOGuXcYXEZXPrZz9AHWAYu+zAVwGANb8M2g0+\n",
              "dJXca6M8zOPuik6VqB4cS8xagujxrUbEuWMX+kMZAI4cv6s35wIrD3wegqCym832ARZBscXNLa+I\n",
              "WizMF7sBPfJBY1Y1wFbxL1Eeuabhx2aas2dub7Kf+LGB4hlgMAchDORGDEfLkOAHuAiU6Sqydhs6\n",
              "A8NSJXEkuPFMPGk/Lmsk3F7y6YNEhYz4NSP1/4N5WDsOYqmF+5kRDEunvDiGU8Z1G6V+HnyQQ/YS\n",
              "j8G79iHoUjQD4bx8VJA9xi30cvioaywYbJabX+ti58btSHMSSz8IBOb2UxMMHiobbXg0m0QKDdXb\n",
              "FcNK52PppKhJ2Snfjcc5Bx3K3XXZ5H0uDharDCerE48FjrLuiD+ZWZqwb0Kj+XbHB/Y8o777CCz0\n",
              "NKPZjFnONmeqRmgQeDqqn/3WyqEojptswGGngSyl4tUrjcV8jY1cDO5XOHos4uWHddSNA7B4+bbv\n",
              "KhCK7bI+jOor9kkxYjBEn4ztc+R6wPbOjHjnqXWiKBHIJLLvsEW92l144XGhAkBWHDPsG44X+xfx\n",
              "pu6D739yTN1+gqnCT9IKk2sWd35VJlIGXgxTAHY8RqgYYdbQyr1Q/1MfUrimMQlUdkAujHQwkDLt\n",
              "06PStxw6IJJapRci/yk7KqtnSPR8YX9egSZKPvt5u/elLOm+OPjPOckQiTGjswgBjO/QzPjC7hgH\n",
              "CX+nO1xD1bTRxzm7YMXM6FWeohtbfHEH0vxNbhk44KYl0/v3Ny2yrcPu38JnxeLLSSV2zNXhY8rw\n",
              "+uIP7oH3n+2tUfeunAc4Rlc+UNLk6bZnRcGUc12q8Z/WvAC6Qzujg5znXR+iR3xh3a1/UWynLPbO\n",
              "sfRNJpgPBJ7JzFPug5/Z7ibGJcjfCsbbwhekZljxYamfusGBrQ0Bo1718gLOf9tUcW/oPaIeSPZU\n",
              "sQZvnVXNpeENquHTARU1QYTYqdemk66nxiI2l///h4sUMt0HPPPtzf06cW0D0Y6RpyvkaSJUD5C6\n",
              "MJSwpBE9rMtCdwZ+nLjcX/UwMDfNOsXKSNhniwAzbGV0pAdfmV4FeBd2zJmZnDUtrvrOS+23/emY\n",
              "llVrr0HtJH4Sl/FbWMwDvIckhVbjgMiY1bqdn+KURqsue3vmddC1cV6K7cx/LaciXlFMdshiVMMA\n",
              "YjcK/4gHBqxhO7+w3Ry0SteHSwHKjFqm2TFnfqWFCItucm20s72pUltf2vau7U3uUB4ql9xXkjjg\n",
              "7rxhTLD+TbcsUbpxM6bAgQE7L7G7htljmp3OHb8ShQCdsA7ZPEqBdBSPstyPZ1Qv9+Bk39Y/7RWL\n",
              "zc2t7jVyJwXML98oG/HawMV1Vgm4s//7ccW6zhp7HuyTI9uoy7Egif4YgbjvWST4vBtyU7RVC0nj\n",
              "fgtzlLZUkR+acTQkwgu8iP2HxvaLNWr8IPHKewltvreEbnKAWBNjSQTDXvVAsFRU/7SPN3GhTFXz\n",
              "n86fb4WGoSa6APj+q/4v5u0Cjho8IVwJuaBWkB273d8OJ4+B3c24lc+tkLjrVPxVMiG5Jjr5IHjl\n",
              "x9qRn8x2b4a1NiMSYSgZBt0et4ITQ2WVidbAJOLzVO5zfU0jinfnlh89qajBqCn4Yq8Hrez8PclB\n",
              "6R1X49HUpfGUUU8YGGr9rR3Ftjx/9rXxzl3jG343Q1mSFU9uAWeKodb2Ydrayqdx62E9GkD3LRoA\n",
              "Ad8SW8FrC4beIOHhijIVy0H+CFYQiFnk6+Skf76K4K6FJmM9ptUGDjFzD5SRWvPPMf8q7oFMKe9u\n",
              "WA5mOxyDPvH4nun6ru3aJMi7737uaBm0d9yeIxpAom2m8vvYJ9WDLpt6sIdk0P4hE3sXDWbATUcz\n",
              "nIzAydyrdjkek806U36ARn3uvwFs62JYr+B9rjuyOKVksV4Fi5+itRctXJrRLR6GhHADYkIzb4hX\n",
              "KctNmuqItGAdpqp7lZPxz7TPx3QrL75SH/+iTOy1vqjyO5dg9NP81+nT+42i8jpz5Z4ZkMGrPg2r\n",
              "iycICEWESauAAABEv2qKWyW3ptAcDMWwevU/7l/q6647/Md7VFFcg1BI7c0xEsPlSC32hyR28bYQ\n",
              "iB5giYAjzVRQuyN5HZTIYTeJsbXhYkB2AkJE+KGZ+idSH7P5qzFQs+Md6pqaQOXrh2DOgIS2U3ES\n",
              "JF6LZShNFw5zeUV3WoMbljFIlKVJT3tBEwG1rmSw5uAm2v6+3gzPi7Qmves4S1uScJB14chtv1pC\n",
              "icDFwl/3j353TFrHkZTH3CKAAcM4xtiaeJ7BoRDcZfhqFZI77+h/yyvvt1ljMGxLu+haFQAi9fn0\n",
              "y9GCwJS0qcoqvYOf7h5kfK4jeYMm8us1rtuSVq41kmCm6CKtnuqtAa8tVwejbXcc0MSTHpqhDvuQ\n",
              "187se3Z1tqm953sW3iqbyWWAREw5aK53W0hZ47XMkkcm8nnPqz9Kljtktoj8aEiyEeVLn3TayPcs\n",
              "5ATItKVY5sOmaaVNYjn5rxFZTou9LKyoshjARqbChRGXYh2VZcrUbgfDql2TQAlp+jDe81gS3HWa\n",
              "R0IsGutQg05JUVCj6IM27vgnwWVq7ZepTyQjtXov7iAoe9Msxa9yS4qdLnxi8HESEh66RK19utHv\n",
              "1WClhLDbJ9u0DCRtdzBwYZvAIh+rXq9b28Mhh+AJooAX9nbCRE1XRZq//N/HacPaJqShEZ5757cq\n",
              "zPsKXDbyYwVP8PwgRHQQ5omhenrsYIogNeSdxvMYY0F92uACOADmTh6olvRyZ878ml/1+SfG8tDE\n",
              "OvLTaUHdMij2luaz/cTlzB5kNOPAbdKzXhErBXpR2PbCLKKyiJcoAv6nIV0PZqg/lLFgMYFkBGZg\n",
              "WSB4bya2HiuhdMrd+fmqvoHCvtPJU2uqFmIQIhu6dSL4A39xjflbxyypwNf5uWKMJKlnbRwdQugI\n",
              "ABnDvsFXtU1BO9JgY+hbEKSD9A932fDW2FVt0jjlJL4M8QqzHEAD8LtV9R0rYjg4w0IzgoT3E68K\n",
              "y9V3cU895+ueJHvO2fdFB16qe33e78UYFHsHfY8mz/XswA7kMHSrxa7m5gfHXF/vxH7BZoN8wjHt\n",
              "2rmvJMy7R+s5SxPfLWfRebAv6mDgAPV1s2Fwhp0eja8atVmdPTMwG3l4n0RrT91qVN690pacf8KQ\n",
              "7mAX1an7OzZ2fHmVhNyNwDuYsMfyFZuD64J+ZYMi5FPuVcyjJqV79ZryYtIBdBx+OKOEmjrwUMkU\n",
              "H2KzvlMEa2mOzsW9tZ0pyYL7MqPdV41miBdWl6K0+wSRCPjXhf5EB61vY16HXnDDIoxAVlNoef9b\n",
              "BS/xG/hfuGsCAPR4S9ZEXVzjiT18ut6BuPTcXJx4lFOUS3XpElKPQQJabpENNRWY+iBTOEOuro34\n",
              "B552UoxoKjYDD6UGMtBuOTp5qgV8lUuRYx54HBNBTw3PM8WVd7LFTCX/0BmbQH3mdAfBBE28NkDV\n",
              "cLfHrlrR2G1Lobg5DdWKRLPm9UjTQiMG4TF6GpjU0Zt5CHNuZp+v8E7r0ZpPsl9XC6c5SuAoE4v0\n",
              "jKShcca14um4Xd28Rlp7whGRELaLiLRhyUcF22DUz9QH9Rid7VrnBNBF4AtVoL3h+i2FdpbFxaKc\n",
              "MQ/n8G+XySlHWMBWwX4uHkhvFfWYXNVjEg2e4rbm7yD0sgdS18g0/05W1Ys2e9CtAxwh/aEmKzF0\n",
              "7aAKDdpiFqMvR4l0xafxlncJ0po1aJio5CyocUMUPJtx0F7AVpE6OnbfNGr4dlmrbDnzrojAP9tM\n",
              "dWYIZxzfe61/HBAGY1Vr9V4wzKrsVcqmL3M23/lIFEA3Dn69sBhkfweaBwOvvQBfGZbIP/WzDzbq\n",
              "sVo40rHiIy9kPkZQ3N3fIR6nrm++6eQjDW7BcfbX0mGnUP3UguiK7HtQPddGkr2uhzb1oYM/PP0A\n",
              "bE21zSFSE6BN3XTKnlYgPnJliq364A0I21QDca5tfKuX9Q/EIXFeYI/+nSlZhvj7TYBiUUm67SfE\n",
              "drYOy3UiOdr8liXnOrPXM4CFz9twyz+gAHaqtNS5u3iJ/rkGd1j/GFf4BMOri6O8x+to35xeK7TD\n",
              "cMD2R7O0IHyXxNXnYQJi0+g1+48XvLcqSp0e6d/OBbcFItK5r62ReGN37r785iufPqRJdRwYggk7\n",
              "1l0eTGLTH9Pee0zwFL86uAMNfpH9X2vAwQfU4YJHK5TrvCVMrucySHaPS3idck8AS1mHEga82E8b\n",
              "h9e/lYDJJy0jzVvT6uJWTMAPMj+Ni615b779Wp0EOVihh7GvZagvH1TOAnBCBk44ONAlA/Vtp7uE\n",
              "8hHRKJtdF/YWxmwk/CYiF0f/PON32f7mQiFWwOV7DC7fHYQS8A0tqnzLl+QKzHsrhIMVRnWmwhwz\n",
              "+NoVYzjhUL4nug46X9r4rzB9hW1swfHgaa7SCYFaRZGPZLKXQAu/5ByaphzpxcFyOMfbA3FgpDP2\n",
              "BIn7ifzdWtRWxosuYS5EKXj20VRWauSKZIPPQreb8CK4EPUwTrYWn0L2edTLZN8SxeHh56356W2s\n",
              "6OmkMwonQBPwV7BIo3TNnB393+fSv8uocUpINHVLJnVqhuvBjPVhTtDEyHsePxZIxBNR9UyngjOG\n",
              "IO8WgIgKfEo7WFc/EvheJ1dqIla5D8/dpUAAY+f3jlnQNn8fVD4B9O6lUH3vrXWJ3LE4U6aaMk3/\n",
              "2czSdu6jVVYipXYUsXzjYLYledRf/vu3mCtWk/G0ZwSQm/OTITX4MZrl5yro0UXOxmRJpK9X/OwA\n",
              "Bts00oH1Vs7nWyxGkYPZcG59N3f2H5MaIUdX7HgVkd/EYDM8PVsCttMssA0ykXDqdSxZmb/Ttpie\n",
              "/3kHalxJK4NbeNA8lD1pKEo65o2x6oOJyZFSwYGBbJTxxKv05/A50c1WqnsaCHWnRVx9yljDPuZq\n",
              "ZDVrQzXdrb75OLcN65btFovI/Pd7h6qDW4Z0cqsrWhrP2O/v/Ral2qVyFgY5rAMBiWReUenCWpCb\n",
              "R4RJh6VD4O8h7DViUjgSQKgOz7RhTgrUi38Bi8brok+Mu1oLvpPCaw6wGVg7Blgy5mo+6P73I8Yt\n",
              "ShEvBnMWRFGj1wBDYK+AA/0fCgraTtSBb9ZUR/fzvOd4uiuyycztt8k2fZ6RUdxPY0PdVOqYzgsF\n",
              "fu+VSUcvPffrhBfZPpgbioRQIWESipT54LGsKZSIlu2zuOcrsOQj6Os/xq/3lRUpxmQXq6dwcOHU\n",
              "YLf/0/K0ikNJQr15QybgNYp74zK7ki/FzazNtkznaIHUjh4vFqxVaOq3NTSnEHO5VIZGLsvZPIAU\n",
              "gQq8NF20LT37Lyut+cumOzNpKXlgny1D+IH82NwFB9HmZXDj1kN7sG+l41fSFeS9e4inHX8tmXez\n",
              "kEwO6Bl5P42soe1UixlI49IUhpQI+lDFKp3EJFs1ng4cOoGcb/8EVngiHcxjyRh+JXP/FJHYa2Kl\n",
              "70/MwNvXj3u+kha2GCWj4wJerKNwy2rD0FQOLg3iyGQitBPGtuOeiIgHh6IPHJjfNzVZyW+k7unq\n",
              "S2/wtwB7HMFF5nFdb+EFmGrNEWM+r5iz6mYpeiA04LW/+/RhuGwSOhEH/SwMAvy6SG6LtSITgO6+\n",
              "1CAT7MqE4EqPPoaMyyafwjgIxMTKP+gfulr4leZN2evnx2pvVcYtJhXIM8BqiXNo3/1733/xzS60\n",
              "7p/9HAgwk3VKK2NkX0qHJESFTqzFph+nuR7dVr4g+whlN3Q1rF8NSxoRwdRjDo6Woj6hMvFMMf/v\n",
              "Qf6mQzm57AoIfkFKkcPCiFRXX2E6DbRBLoYCbk2Wtva5lawRdR22rwCjEIPRUu/8cooP1/BNkYgb\n",
              "G1Zncx8PEmWJeISL5T7wwExYKMxR/UOBI+GXDB8YmTnllh0YXteS2wJCyFwScFJB5XZEmb9t+Goy\n",
              "JqqZih3xTI3nwICPY2WeTqvxll4xAsYS4lVVTcbnebrpmUEC5vnUKhaDmHXmKmNbcqg6HAXF1AvJ\n",
              "K0/gIJqKYVv2worC36KlFohjR3aJSNQYbAE98G/718fxe9WvUbUpRLpK4eVk1tTSfBogrB5HFTt1\n",
              "Ms2tLNt3vcIs+QjCJ3dgLIPm6owzg25Lig/XlGCc6EZZ0dULvtlTkOg2VCBJGfM8ExeD1MoTF5pb\n",
              "jyHunGmliMweB1GD0Vb8ARL+BSL53PsQlstOngdqRl2WdtT8ijyaEP0nF/JFfkBifEQfUS20deJV\n",
              "WS+Pvark40aB4bjle0hkcSLjQlBWQvSEztHjHKb7pQw2BF3c0okqs8/N5RndIvuNl1OodafEdin7\n",
              "MGqpp9+r1ZIWtAD9lZTwmTcyiTYgx/dQCjZlYgX8G7oYM6c6BHgHH3xAFMi4CarBh3+vmj+EJzQg\n",
              "hpZLEXLTsirCfQa58IWssXrLzzGikuauMyd2CEljChA5WdVACUwDxbirReaiIJ27bPVYVphKCuDs\n",
              "v9PhyJqRQffBOtcQfPmRUFK9mS+how2zPgnKI9uxquZ8JA03iR8UJXiSGYI3b39Xo+NsYJMLU4aS\n",
              "V2krYEK4hLF8Sg7OJ5AtU3vZJWf5ae6X9lvXXrwzTBC9dOn6ZUKcuPn7tRjoE+3jvLJkReHCEfY8\n",
              "ltZ5ggJwUovbBSMZY7B2V5EgwS1DeUgML3LOA0gmJveXwnC/B2cLdrj3RJxSgaWyvU1KFwKQgJV1\n",
              "m9FGdPF0Y+h2UejCbklqmKBqVuttou8rkRDe1WOw1cHomKt5STeNyqKYkCDTulc+tSHhUdV0m7Oo\n",
              "C9IkJfjsjwOsOHxb20HIWlEE7pvF6zKkkdX82sPG3b4TjSkjIxsZgSM6RI65E2wwsm6T0NSvYofb\n",
              "Bv1GZ+mGw45rGrn9bBHqIGuFOvLK9uMvHQk3FLi4YSVck+pnKKYeFocWAcEq0UiCn3GjIpFba5Qx\n",
              "lAB8vaPiynMGe4hpoUVRlDRN3FNcBtYpT93R3LT+TGAJ06I9xmPWnE0+xo7SScb50iXNY+VhB2jj\n",
              "uBzzv4vbiUzigZBJXGh1ES5A7/j7p3Lza/deFZvL12x4SL9gGJkm8GnFFmrmIgs3FtLmJ573/86o\n",
              "tpTxmsQfSJTo1a6JPim3xf/ACnCfO7f5p606OzXWGQuuzrRV4HXTOxnjauILbscd1oJdUifI1yfB\n",
              "cLU7ldRZ19QJJcZDs28g0Wjv0vf2AbA8jbjEaglhvhDRJ1cPP3vCDJ5oeT1Y/5ffFEz0iuALkTk/\n",
              "ysJIVrSw+ZLsHUigEFa/Mz9qq+/2elh7Mq39EcYGtJrmxz/MoXxTIY1AWyjDYNMsiwLBCpdxb/VT\n",
              "f8dXfqo1j90aowm82jp/i8bX9sRPXa9FPcLLSkecYJUaY7TRuzTW4stzW9RjoDNUWVtCgkeITd4G\n",
              "wrbjB5qMFtGvQjfGtijnr2Liv2fH7IqdXuUwPu2YpsvWy61mbuBjznFo465BEFL+pGidCh9oUid/\n",
              "t8rQ/YINd0Ehc3+1m2JcF75vDyVVBS8gl/GwJ11/E6joHXuavKzs0VFwqgGfzz2lOdwpongnq115\n",
              "NhMgf6ocYCrQDiCguTJp4KzN1RQn3eOfgxhU7ahsUW+/+g8x0pcJU2XXtJqhtopiSvujd38h4mm4\n",
              "xz97LEvPO2z2QFK0/we0l4qmG5pn7s8eN8b8CJ0+wbkz4D+H3VAmT1d0mtxId10g/zG46T8zaVqA\n",
              "OVMykLIq7hEXD23WW+pjpzJb5hyvShZXEgYSco5M+jSWWvl4e1+sV66FY4TfC5miNDlCX6rFfsd4\n",
              "K0uJ8Lz2xLWcopaHKE42q48ZEjhDrNS4E23TmU/5rWLF95HjH7oPe/usG03N7tbKIhYIEVZGIln0\n",
              "hstM80DVGzThZjPT02v02W8B71QLHqyUfLaXZgHEUJO14UQNiODVmvS8yJNI5h0gAzMH1kqTNvJM\n",
              "PL1/Upnh/GpFRKo6rtZhD2pl2oEg9Eb9LPz2MZ6vnEMeQ3SiJ84JYRdkfiXmTbNKaymciNRhgWB2\n",
              "H5ocAprfrYJiLt8actEbmWydkLPCluVAMGQKerjzCGzVYKq6/MoB7IVyHKXV5dC+wTwUrtvVQ4NQ\n",
              "YajeL//fJ7qphcgsQWZ4wrzeF8NMwTHEePS0uQmVh7boqgeYXdOfmi4jJKesALY9ZAmutjPNz8Ie\n",
              "EBaFM9L9ukti6Wqz48P5jKcDwrNJCBGYnmK5/k8+LMjbIhL6KG8jtOxRmRLP7q6hRz3kwhlz34zD\n",
              "XxnRcy6d8CFMADyk4zwpHc3eTui6pHe+UmwVC1RyBOiGQulecv5F1D17LdP3cOLLymhNFDPZUPT4\n",
              "VQ2u+XjQt+eUD2mKEz4yteWbQg3GQY9cvmG29aYH2xH+2x2hlqHdNGrsMPzomrIYZLDmL1KkDlqu\n",
              "5x9Se2acU9UbwkqnS/noorzfiaoZ/arBhPStvNXrabGovd3OCGkFrRUVuqzPVtL0jU67cFBmfCf0\n",
              "Hkbc5NNksq5B2IwpavqBxsnZEyue5jz98zl0xVc0kMPAIBpcAflETs4yUUmvjPJnVMic7Vh654UT\n",
              "v4S+0fFZZjZc0RuELWjSpiRCQ/WhLLTWaD4daORHKFaQg1NYzH6xcjmyhh/Yd7Kx6BjqWLPHQ59p\n",
              "38tx9dpJh0NdQ3G5AB/iEbFXPStNFPEOSupSnzFEYVgY3yPKYXn9LYoXy44U0o9jPhMyozlk/t12\n",
              "2fiG3f5ZctJ5Hk9ejd/Yht4x2/kqIvah+tw53FdnL/1c0xVT1YmtIAyH6xC9fJlsD0XTzkxKxi+G\n",
              "IOy3u+miIwAsNDjDulwpzMherjZmH/dMtxaZZOffwVHlpmcgOLvo87gzkDHGJ4+yIPSjPNudayJh\n",
              "CYMQkMU6Opjjldr504P3f3Sa8jtVNYMa6fi2mZoslVG9y3ilkuw0+4i/clynouXuehZX4lvtjfBu\n",
              "3Jibge0zi68gcPxpGL6Aled4xjoUG2axpRViO3iqKlzK4+4jRW1FatO4CDxKMQkr7rV4kOX+JDfh\n",
              "JPjrv1tClofzL7Oud02maDE0f66swnmP81UDsWwjxKfVjpvY3CyXjJtLLuCJWlID/dheqC2gTWcy\n",
              "hlZNOiaf/rhb3FoU3dyWVIEmUb774+cHulHPZaT7qBw6HNdxVddjS4SsvuAIDEBcO3I9Efna/RKL\n",
              "c5abyiPiHlvpLhV+IInMYKvgB3YBc/gzkkCxm88aWWtmiGQKmi2JQMon1KKLjp0Bkdh4Y6wrxe80\n",
              "NHUiUQcxfc2ggkIMoXLVG7S1FMAj5OYNEuQRCS2EMad7PMnTpuHDRBMxUmCCiwHBLq6N3Ug9FfEZ\n",
              "T4hlfqX3RQPqhJgMcI/XZNjKujuIPfKd8WGeYwp8Wz4HljBnTcVr1iiRrtaFqD7QUAEKF2HdkYpR\n",
              "gKNbIu+2rydqenjGx3zLK2fJH31etC2waZ2wDSHSBhjttcaM/L0yH4DgNYtl2gNOXgHdaqz4MKkA\n",
              "pQ13RB/1IZ4h9il5xc8aavue2MBXRcR6mpqTTBC3yVxRpm+KrYILGVak3XJfsWHq4UYvw7hZ6yur\n",
              "nV/2H+y99et+7GUsMp+aGk35rnRVEBtSxmk45/acVgx1h4jzLx7cxypNFjro8A3Y1vIBNc5MKheD\n",
              "UIT0cN3gCtXIs6LtY+rceSleY6F79mHKEs9Rk5rMWDvxwxl0S2ax8M/lexwf3yYqDvoMkRQwEwbq\n",
              "F9432N30BXPWQBgkgOzZdVBcP6vmowSj7XFsWblts2QhTNOyqu6el49Pay4szTRf5TodPRTn9lXo\n",
              "JAqj/0SP9TlvzMFmT+emkZKVStpr/heroEmAtxvQYLZxBQ5Br3cYym61h5m0hzDc33ReY9DDIafD\n",
              "OImkC5b4Og5IaJN32ui/+dgP5ooJSMQkg74Dj5FXgVKtI+roT2xlNNK+uXvsoDotZ7HUk6hGSvhz\n",
              "2ABVf+RksU/uJLsxGLeyl0X0FT8Kru2qq8lkiN2NiBdcjqF22DEPp/i8xI6KHcZMuVKUVrBj8drF\n",
              "5l/+5Y4ktGpMTRvNBGKBmsAfWpxWDVmXsbej3BTIr+sWe+BbBuT3QIfHRkLXNNjdkStYKBavk7AY\n",
              "wkhQJ2meHpzgfMQFxxw3196ziSuj3U7zLZoJMqSyIrMqsEk/hhSqyg/s9m6VjSIW2+yLIoFoExHd\n",
              "eomAkrPT4teZKVPLUfwLRaLlv5i0mRYhCqngDd1vowGkAblhgPSVg+DG20bfEHFZXF0ED3n7x7Sl\n",
              "XZWfcFqwxlU9tMBkevDp3GuxfWIIsy0m07Ot9tBxkqWhwPNJ0VwdeG5HF8uJ0E8H2r3TqNIk+xQO\n",
              "TZ6wtRnpvDrJKZ4Y00K1rOqa8A4qGi8tsOxbVUILLT9VuMX4wsciDAl8G1pkpyZLKP5u+ZjXVtWM\n",
              "bef7UHr4BsjoQfSMFtcv+PTkUHDLl8UDOnk+XcMhrFagHxS+enhwE4LXuhO97jUlNlxGTvLhtwjg\n",
              "bt0mQUpTrICo1GMNvQcqkGTP4hNeQFPyJIFl6H6iIHyfudNFWgukK3RJt9eToOgwXkf7ZYDe+uHe\n",
              "WE9l2I1EjUGBz2yxeEt5XMmuUi5y3jzFd4SDWcG7JIijywQkNWrKhTyhwKf9LqAqd1eUCr1hh/qO\n",
              "hyQguyuudAB093Kg9s+Z3FjPAGu7kD9pGXUHUOQzV+edGU4Ga0OF9McH3wuvvOvPdu6TQYy+Lp4v\n",
              "qsGG2FU1WbcEZBAtq0jDJYuTG/WxiPNjtnUuSeSZenfvRfmMi+WiL0cbDgPJVorv68qaY6dD7c/L\n",
              "Jjx4WRnLL3cjaYcaJN4eku96kdgOHJ+PKqUgXapgkAgdJqu1L7mSA4/154VmjVB/bGtHgNMxwUJ3\n",
              "UtBi11FKdzPHH91P3/8FakU3FwhrFkZrIGaUKrByAJ+pVS+4S3rQ5QQDXZusayOlUL2uYhVNj96O\n",
              "CHYX5n+UvqIXAFr3v8jM0MW42dU4ZENoco5vApWXegdYAeEtGFty3DkZFEijzvZ1uxfGT77ZuzHE\n",
              "XxXY67pGohfPCATHAIJGX1XHjHxhA9lAmXvqXPH/jNbV8oaeJoKAIzacYr9Wo9buoV/z4Z1bwSuO\n",
              "Sj5FHWY0xUqlDwGcSCOq4IJS1turz9JhRN5PQhLQNsiL+Be8Bp/vTA3knMxqU/LS9rx3Dj0O33q2\n",
              "Bf7YRuvZYUwKxiYyHz3TqK9FWztmDA6in8laf51jPc2m6LuUkroCnraWB5UfFJ8lZRJHpmOZ50dx\n",
              "+pesmR0StdF7q54uXMvvb0jtyyJx/94MYJw58uwZ3ekGWX9jYpw5WHopOO0uo+IlTua5V1gT+hua\n",
              "zgkFhUiEN2g+69L8S3NWLh1CulRx7VCYA1ZMyIw318eFZDmLSebeK/+arsLVmHhMXW/45lv3d2Z6\n",
              "cAKAzfdPEAmDisvJ1zXvqTS+CKbO4mPJmf2o0LJjCns4XE6UWudnCdLlZv1TKVp2bNcZ8onJdKTJ\n",
              "sbd+tstrTcr/YLxk9e1cJl91x5H+2StnREd36ER0WimmnOwf7ZgzQx+IOoQ9rfuAPtPwn1DbP3+I\n",
              "mAHC5lc3XxKvppnAR5ujyNHtxs5BNcCPLwfwywTcKMbvY4ARYVPjW0TINWSAQdBcteUQVScJWlQv\n",
              "if9P7PSHyrKJ+i11LIWsrg9//0XK1v6AripG2yWG/IDm+4N7PQZDPvm//mfY3sZWzFGYoOP2WdoT\n",
              "WVg2/rMfp4sftBXr6j1IZXS+JMFxxFV1bjaDTicywlpIn3hy3qxMfCPlmsIvpPiANIoHZfUCI837\n",
              "25nRtPL7bDU3WOhDozcWtqdIvQbdlapgZAGIXsgIuez1YQKOzYNay5qCLNyBiGLheowBFTCEeFpE\n",
              "rLFnDgSuzHUZWO2TZvuDc6PIte/M0cnrzq0RuSumjx+SQOQG378EvJJTmbGMK0HZvjux8wVloIjM\n",
              "HBVnI10BFjrVVJ4ScQcKSg5yFL08Vktgs7ifyzMXJIXs6fZYE6V7jd0QnAABE6M4sya11rblr+3X\n",
              "5+LEut6QBl2igRXsTqOKGqJrQwNIOUy8vZODclnVUQ65fuqn1hg1OdqqgxTjg79lJmmCN0PPY6CC\n",
              "G7pGjuBQ/iQYzlzpUSo2dLpaAkNXUfZiTAQWImOXAHxfHs9weYIzQaDelxTc5/hC5xQ+CEnlF8dP\n",
              "lxAqL0j0fQ5SMfQzx4UtZrGHeIyjJGL43BS5erusP+Sub7iCH5JaljXBSGjy4Xc4A2W8Jn6LY7tr\n",
              "cJVXiYQvJNZMkc1loW0HBtuAIkb+6CDdymNP94VzLkf7zUMAAAZbQZojbEO//qmWCWClQBP9P4SA\n",
              "4eAluJez1YAIylOGQJnuLvKz9NBrDO7Fyh0k3rBOm0s1XUVgd7lUFnOC6bavqMhftQ/ZoFOt8lqs\n",
              "aHiOuO7T7lkaNAc1Z4MwI1bWYWAPcjqQMPjKAc4g5LpUAO10dFH0w0bRPNSI02bVD9nPMMXyAF9M\n",
              "k828Tjg6CWyqcSN0DLzIrI8kFo5RrhLjpBuVTsPLsb68O9Ff1JiRCXAZJFFUWOx3709B/5BzQTzH\n",
              "e48ap0yVgi/uYT8GCV23A81iNxTveoyP9DY//+PCpQOFHA2lElViRIVGgRxOw56iWSmwl5Tkfnf/\n",
              "ilC/9XQHDtLFlbp+V844tuElF4DubDREP2PRIY2DulTk+uQFVvaREdJ7LEXDOHn7orePuUZtceE0\n",
              "qykGYZU39uL680p9PVcckHX8WAhmnhNeom9F906gSo25UTfwKwlAT5y4EBv7JyMzyXugXZXWd7b2\n",
              "i0Ol5R3euyqZ1EsATRQBO9GjuuwDjDmspr0G0QiUM/dnRSDiKiT0e0YwTIWd+gAlw9UAuC0B3uq7\n",
              "Scs8xRGfPRpBo1Id1Uj95ByqbdJr0EoWQVIKkb5Ku5RfSY1W81quEWEylUPpLmV7JB+eEn5a+gal\n",
              "E1+5TQVxGxjY9pCHVrZc2ECe/1fd427v0RgHhgDmsu19v5p5OXyTEiM1w/gEUZK3GtyNE0JjUrgO\n",
              "ExwXA9nb4PYbVOoTVN3eR+XIRb918/z2MIidnbEMvmBelFKpgAHWxWjrMio0oYsPS+B9e3mwI8l9\n",
              "ekWEnI7YMvPJ80iZ1joXe1D/97fBFudbO5HPLMfv0sloQEw/l1uH9hJag3MPVvlyomPwEc3fllbX\n",
              "LF5xBY0g9mWtfmxHA56NZxc5Cy+q6W16sxr5f3BptSUCDRgNTzIupP+zGE7t1WSSgVKsEMWv6XKz\n",
              "AcBxRwxmbGg3Ur0xCb4L0K1SblTtl9XJT//djp//bpxuyOV/iclfHa3WBr3J4Z9tIE2Ehwnz97I9\n",
              "h9jUA7c5o94eWfS03tn1DW8dqVLib5AJtHE+Bwwg+D4LlTl7KKmuJpA4njMh3BrjxXahQ3qzRpFj\n",
              "oYvk8Jyn+U1nhTH3ra8UQJYfRr1LByxXyk0ZWHzor+gofECcj6Wsa2SEasY5qxH2xn6PZyQ3A3Jj\n",
              "HV/WNWbCMiaQ/ufSvapAubngI62Yh44fY8pwrHC/Sk75cPPeNWxtDzhntzZQjZ43iOPuMie/rpG8\n",
              "m+SLgDMrSohJx3q5kwM6MB8HDYyXYikdELyxC3FJ4nzW4iEybH9LH671FZV14ZUxF6zWwDSfLJ+D\n",
              "GQdn0st5r5wDNe0j/tgodFrn4sxgLVN4hL/qk7E0GSCZIFNeCb9O4X7mQOj6QQ7jckd3O3vebT+D\n",
              "44gyvXPt8cy9jzl5knotFUS67zoVFc9Jqo/xrd5D1bA2zpFJg7FnQ3IUQC1m0Tz6NsWtimaAwad+\n",
              "ZHZmeFtoDZqNz+7JtUKMeB7mdpv6pBiNM+2SY4ELKZG++ytUqKtvAbWZw2FSbm2/HOxZC6BKNsen\n",
              "jDa/zWnyKrubhfS3rSdsWV82iaUW710t/5VF5r17oEyMktNl6gE8tcHUlpBGfmTZ9UnhIAQrQaQ/\n",
              "/wOXzu5nz6AoTkO/mv/ouKhaVAOV6dVrFwDrV9O8EMtENwb9RgSFcVQdg2JBvbi9+Um7HB8/fxtp\n",
              "ALFkTai04kz7Rmvd92vCIGTF5r0jKmAL8Wf9ojy1rRJZkVAso/HCuADapvS6KJVnokX0dYdMu3vQ\n",
              "Gxo4R9XeHffDzONNTKWeTfvrANcvzCb3MogTswb91ni60vfvbr/XW2RdBpxKUqHehmNs5PaXnXu7\n",
              "VL23Oa9+wCJ4Ku+2KwLzkqbnIpIup3MspoiEDIEoE51EcX+pHJiYsEH2BqDIpalIiNXWBQT5oqVD\n",
              "+osnHPt7B8jJ37ROHSYK6Foggy+KAyWuwqK0CSPBzVL/j+uA4m9iySOicB+UIzOl8DTiYB1SPTiX\n",
              "z42ohWcaFUIxr3KSRufBC7JjI/O8uEv96MO8Wwpp8kwDpu9wc/UIfriK3aTR/p1oZydyesfP/RaI\n",
              "vecuZy/6+W9fgGvYV+jQ3qaSeachc6G5Ai2i4XiltLrWSt+Q+SJxjgYB7+VmSoCG/+jWJpUXP0gh\n",
              "jGIXwe1d3ekh30TQgAAAA9RBnkF4hf8COHhRQVwHzp4oeloiu550IQydyaK5d/M/Dpd6Y/XwZB0K\n",
              "UAF1Hp9h+N0xACG8ubOtJWZKvnkL1fsEG4XWQ5n8e3bBtCenFWzjrnZsKVOXl/RdDEh1m6cHCAfy\n",
              "XrCBewvXpCAADruLk4dTGG/ItJEaFFUUfUda4ZDJ2KcK26tbBQ7Ad0hWDYoT4lEZCd8WovA0YtdB\n",
              "B+esF0ggbCjbHaJ5SoxzuveX9HzVfloqzLz2dSk7LzQNHYT1d/9sGLRGqL8cDxgSj0nrKn+ic3c4\n",
              "uGPldafGpxlR3+6oxa54rmyKEvxT86YxW1E4iXhyHKwTmJBJPI/PR5lZvWpTlJcu95qg9Wj47bgj\n",
              "AVikcnOP4xN6s9PZR22E3IMfKwmMAcHKiZzkLoJw5nsP1Xpypate1QhyImhzHIrzcIozEXpH8Jwl\n",
              "ioQJvA29j4rH8rkRgnCdZsVqMZ+lBSa0PjSN6SI1Tl101zELFAG2fu70uOWXB6oLHmLfy4v66fBX\n",
              "M3/2WS4pq4KTQ1tsyYbOwIEeSgvmdtBQJy/JfFVTh9LIQ3mjlFWlDrlDgmWdGHR86UY/o6bqQJOb\n",
              "UJbnBDcrG7K0alfVLvxQTNZB5jS+o/dBJy3VNQgJ8P5TJWevDXA7crflGgprelDkTJ201cg8vmiq\n",
              "4+/s5250xV2pcMw2aK7iKQ23p/V9w4vVPFG/UhPskr1PPwem1hQ6wfr2/1BNGZiNxhLyfMfmoA1b\n",
              "75XRzKzBF7scCvk/9O5d4wVQeuSJm1CEEQtLCrpmMCBI+WcWFvbi+d0Aw0wDsgZp7ICYaCBpS18n\n",
              "b2/dLYi9eEzibL7sWzeQkUxahhgsAaLcdV3c00BM89SM6J/4NldA55/FkVv1T3ovfvlrs5n9e0Oq\n",
              "4l3ZFqVWaXcnNlOGdljXaFxMMipu53ykhH9U09+x1HJg3CQcoJhWTX+dcYqIGM568tmwVEXy2e97\n",
              "OY5UcXDDmUJa3bfw0TxJntx/1/8YsWqxQ9caju6O603wx1QJ6+PkAimvdqbl5rbcQS3x4RxvLpKH\n",
              "bW95z0wuTVagu4Sbt7/cJAiqbawi13oI/0qlwC6IzRNxl/mv661F1ONMiNDciNm9YACEd/Bzz9jW\n",
              "Pdf0OeHjlagnF9xOFSIXUEXcgOv4uSxMH8qszLoIGoTOSqPduhl3SqRaUFTsPcNlfl+4ji+xGZSF\n",
              "AgIwGkdc1//IcSqOf0O/H2aIEwnHMh3u+Xf2Y1wApekJ2OJuKbqT+R+3eYSVahw6Zk6tQ9DpDz69\n",
              "AOvZ9V9HJ0uqrmEpr5vEvtqyMfVROjQbPQSHMwAAAucBnmJqQr8BxmSVEAyNAJr7SEhu+mmEk0Yr\n",
              "gWfRbADc058zYeCYHCSUEn028h3XRxtJvnFrXiyiuJDyV8DkFBbCwym5oTWl3aMyMh7e0rqu2KCz\n",
              "0jJk24HRQWnpX2J8ePkQSO7eMd6X31XTXqjeEgbRq7rJ40y7blSaS2TtMDhHJshAgHUYQqysxMF2\n",
              "wKA5NMHJMh96xWg2gOJSRT++eEyIRgeEbEmcBonmlaDT6y33R7slhLYhIj737yGRmaYBSTIcSD8F\n",
              "rjzs9ceP/Sr8k/hsloacCUP3P2mB4K3hSayUL/l8b8QnqRVByIT7aOGik3VCvxNvfGCrNcgOqZnb\n",
              "F5zn//FtFNS6W5LGjrE8z0zNO23hbpzTxGWDaXESVE4MmmRQnK0M3XVjgG+MiqPo46/W0Pv2qVan\n",
              "5dPjYeuopEdxn4r6K9hi9U3EVhp9DuBTdACHp9q4sO8LKYGZrQ757rzoFAPrxTP8hLwNC08KhXRx\n",
              "X5Gmh0Xx6bdaNmEFZcBePW5eo8CL3SK/jE2hLNV4NSlVHf42gx0QgEUSLj0QES4vf1nbPLoQFcfz\n",
              "9iuM03Gp/J+ndofTumckzi92isQaZsbHypzUVkxLBm8AM2TU3/F+RyG8EdNMVbdrYOcZ4mFWh3Zi\n",
              "ESy1G9dfbFeqXPPELAYxymf1joNaCpPpaRyBpfye8+UO8DFxOLT1drrY88fQa262BBpHLi/4rV0e\n",
              "suJFEXKrvLoMGbJ4Vdx7JNmXdFTIsfNdHzOADDAfQH+oHLt/s8lsxWA67PDEqQ3nbX8pNKTUcAkJ\n",
              "J1MTrOa2h1yAITOiQIzTD0TW51Z2B47AHBOKXaM2pS2W9zeBTGzIFvmix0hvpdIq8/UaDYOa8qHg\n",
              "13EDuNLc2+uOk9N8wAhD2uZSV9qNlnxooAu4Mq7cM0WygbpHcs2wo9qv/lXx/19mF/MWCE8GUPeK\n",
              "YzB2TaSnyeMF7l0GGEoaonSPbPwHTwAKHPfhXmwxe3L9WAAAAp1BmmVJqEFomUwU8O/+qZYB1dtA\n",
              "vf5b7y2clhiOKbjuEAzTB3s3ZV1N/cDh6zYRAOLZ+DDgAjklpOGiJiPyOV9IDcYN7ppEzOjxSSme\n",
              "+KCzdvrH4HWGQu5iEy73NEHTmWR/6Abyf1nUMxfo2lSDZzJfI3MbbjKAkvQsRrqJm7z+wfN1lDpA\n",
              "Jqml/AeWOLTsz180+VVdxwgWfUD7Zb0oCzahu4iMU+9FPpZj+bCE9ESZ6OZp9yAZ8T50RpMFZOMl\n",
              "0d6HCVXztT4XxqAot4h/puEl3+Gqh8AicC4w51Ld4VlzbpLisC1WRPVk/4bVbaftOKBQk1itzBG2\n",
              "Y8rkiAlHNST0fFTiZsOn9sKOAB6isOfAVQnGHEsSTkQA/FG5yNZlXRdonhw11LuLHic/Z0iUNTOJ\n",
              "2OKhIxcxQLckuvegB0lBOy3Gn/kAhgQUcDvJZa/UtUDVXMPKAhlG9ie6AR4y/wgcAAUyXla1WZyD\n",
              "RxdltZRlHg28L8pc0hWQeuIrpd8YDxUD6avNunSwTm/AS2I7V3tzPadIhHKebokeVAXyURHeBFvK\n",
              "lNhK5DGUjGprHPy0YHMgEVOcSOHnJhR1b9Rs/uqAnGD8IDBM9Ob0G9ia4pBLAQp5M6Qp0hhJNGrx\n",
              "PjaU0P3m1CZsuHbnJuWAeNkWXgaR/nKSZ5zpOtqnoYKQr6k25nm5fkPC0we5D/HZfxELIYpqt5V2\n",
              "wPN525PnDhDnmYQceXLD0vUaU1zqL2GJT0HYefQY3n82uGw4eT8S+qrTqdTqTZ4CKnZQNtbAPCWC\n",
              "N3/ydvy3peYkT22K9S0abw1fHodSsF9+HTclDwQrInTSmZn1FrG8dQSzARYh2UWAvBKelrzNqf13\n",
              "7PNa1pW2htCHpdV7oO7UWU3VBLgmFtEAAAJ4AZ6EakK/AcYB1rZJAf6qQNF7hzB883t5hdBANFQT\n",
              "2iH/BwjmIPPa4kE6MntpyYAOdlW3GNxPHGmS/bl6zwvEaCtQ6hsgECm1DI6Zp3opCbEbchKeKDrx\n",
              "ulcRTKDxjUQ3DLTRhW2XlezMuckkRMeGz41VYdTaAee9OHb7jUBaMpu9TnoX7dfHOeDuZgJxeP/X\n",
              "gobPx5BJKc7I1RKNd/kfwLdeBi4aeCrjfnhExf+U98EJI0EUe5MgohRmL4F7oqOam4kg7/2Xlr+9\n",
              "jpdplbLjrNcP+f630TpyYJmkvtgY8Oo++Tq671ySoeJTS1++cOj4NYbEA93YN0St9gZwOvXO4BC+\n",
              "r+xJLhrWaK4wTqve0pbT1EnvVFocceYKnSkbhhRi21WSY+kDI1wDR16X6g+OmP05vMWlS0y0DuTg\n",
              "wW3hAn1vde0D44t+t6vZJAuZxRxFU7zg95hw7pqYVx5M2jNmD4qUnokOaQCRwCMaCwGePa1nbPnN\n",
              "1g5FMFFzHY8N7ciEgeuod60/SoEUW2iOy6k892rAon1Q63ksQaJe4B1fDtmHtNllt4WTJ8tUTtGm\n",
              "cWIkGhAkp8IcKr6UdV4hkMa2UISbs6TVtcevFUk2SHXsqng/w+6iz+Uvvm0mQHFxTXnzHdcUgLJB\n",
              "nVYPihDC1mvG/+tVKIGnXtRwlqo1OIPvVfphCcaE8LDQdY/TaLJNNXdWstUQpJRSsU1sQ44lr5rW\n",
              "bJPzCsLLQhm1W+n4dBq2DchHAwhXXxgyBV0e/C15OeUjfoScpgEXaycuxLri4WLbqptBteSm1XYb\n",
              "MmB6I6W0b5wAMsIXFtcjam8j5ex29L7zRPjPHW5B+wkAAALMQZqGSeEKUmUwId/+qZYAAWb4FH+7\n",
              "XiswgF1P3GRfffg5jN64QFkjPvLGjY11cPOLpdj9M3Mp+9cZgXx7MIQtYJ16N5PzTzAvv0Brv3RU\n",
              "t2jBQ4fIzYKIN9jSGFry1qx9MknMbhuxsYETzZfikAvLvfjjpeJysenKH9o6WdtizX4ODsg6TbNC\n",
              "madIJH/JBC7zGBaQIis3tgZsg2Kq8CAOPHgEPFJAc+Eq+zXDW6gaQ8IdAKvgp9/jkFVCvsaO3ldK\n",
              "hIZLwdJSLWbcAcMStDMN89xSZHvfrF5qPUFvvHyAXhql09L7bpFtMJ6hIexycRIoJ/4P9lbsdrt6\n",
              "LI4VtWUVwXrzrsTEaXTU8fdw4dolY/pzkDLZ9CnzHLT2/SJb3UZhnfdzsBEJ6PcpxC5RmZZwAgnb\n",
              "nrXbGnOOrgTq/iaN1NQfJo9ZZqiG15l7jvh5UCkb3otHDIi6gTyqAY/UmnjY5VmWfJ8wmMx+W6xj\n",
              "WP/YzynJ5Q/QjIkWBp7s219sgsyvbg048JTc0Fmf7I52+VZvTTC5G2xtEHzkAwN1SEqJPv6tA4bu\n",
              "QrXo8XnwE8J+9LGnXJFQU0if6BytYX6MPFN/8huIl3p5+vzx+QXivSj+PyD6HDNURcMpJay/DuEA\n",
              "a2ABf2xCxh27VJnKRqJg/A9eWn1PzLXdXhIsVzQvlFb3C1Eknt/znFI4XfDW21FWOa5pgTFMrHr4\n",
              "gfcn788P8CRWTLJwmb594mTFYx5OthOomi2Jn9v4k8RoWDpg3mwVuRqasUi+aeGYvwwcyuRF9rlL\n",
              "qWAC9W9O/2hLf40yYQLbUjTOxhd1dhk8qoHzvGw1c7V8mBZqu9JZ395epweOXPQm5hMSODlgfoI1\n",
              "cz2VJRfhKcfQI+0E1vhxDf7uUp0mb1uUKj2/GnzSAhMBGzGT7s+/QiFwzi52svfKnyf7o+egfA9a\n",
              "4/yC8mihLaePOGEAAAVZQZqqSeEOiZTAh3/+qZYAA32lJfHOyjgARB8NKyXvDFlEbA/HXomNR/qz\n",
              "kt/cWNPrfse/t+n5+J+clTdx1FqEwIBPCF+jstp5L2e2PqTRZGefPyMG3XpYiq913229iTyLkqWB\n",
              "bscNZDU29l8LRtABRdXTIvzfsDY6GhNu5CzfJuK14O6P889lmBq6YOR2lJccTVKOaE4va3YJtH2I\n",
              "jRymJZkICkeEwebTkdebDfvyPtT+Cp0v0JaKTG8x/chORgInhtCW7XBfy0seShazZO01vYi/3xn8\n",
              "T69GUZgdUhMHE+M9bKUePlLd9rqBLJsLLax655AZCKFxf7iLzvoPsyz5OvebsBdmWXszo6X1fuCx\n",
              "t/zgMR+p5X+0JHWeTbm2XXpzD3l48T1/K9D4R0XpuMT1JqaOiDfvIgYNxVXOEOntmwmGN+I2DxLC\n",
              "zFIJJdgjK9imn/CVQjOS66NQMb92dR4K1ZILKNUhMcfhKDvpIidG09U0a6Wk3Ksid/75E7BHjPL1\n",
              "ig4qVQ0j+hvr4+pI/ChCqGqEtCFiVmadJbf1Cl3qi0aBQV0mb22RGo9/DYS35+AXhApUfJ5RnFdj\n",
              "cqysMcpA2uM8tRNlOsW+jeLp9uZ/xD9eNAJi05b5dOxfx4kIi44IKZ6Hh53Q4osFZuDgA5AZx6nA\n",
              "5HS3aRG6Ey13uyFtF2e8mLHFovZ1Ms+bFR2L4xpoRBJJHtgEuoaBENn/bvMRZPMoVZp2Y4zS+etv\n",
              "VB4Xpi6zj9g/MfVD/DJ//a26GrZKIJGRVLKq4yV0YXlhn6vxO053P2Tm3KSn3yUHAskMp+6tu0XR\n",
              "1SKggigNuWMlzFnzzGGV/Mvvaz7Ii4n39590bldJTUL7BAKkx1AjUefo6S8gk16m4YxP26TQpgBx\n",
              "9N0rCU3LcHJadz9LL918bcmeRdAnmkXrz+R7ucET3kk/c+MhUzljB3Yu6xL0WpX4hHIeUZao4/aK\n",
              "K2Uf4ZU8C+lg42n2xsM2FpoGlOatDV2WlF2O9tsbAOi0ueno0ke+SYmfniliFe3g9NsXIQAP4Xub\n",
              "i49+OYTTs6MXldnF+9cRcVANzKk/u5Npcf0eoVFxwHj7IRvBBKKzyoI0iZoOChbVdAANr6iGntU6\n",
              "0uNFqdNwN/4hMWKswHCRj4Jiq+r5XYWxsQq/zy7TWHUWfcVBhVkOA6Lut4Y0/kdi7Bl9UcbMVxSO\n",
              "nLlzXaEkNr39cOpoWyV3catU/JY/nY3kCOuGPgNVOGo61AFWomqI1WYhyPAaTycK57Q+OCfyIrs4\n",
              "ey/l3j8TSWweVi/4VoYjHfAw9cPApuAYPb1aQ+vzf+g2RonOi7eiGkPZ2UawyRbI3sVd2ZmYUKca\n",
              "sOLPOXoSDZ+bm4U+rI1/vClYdxwbE0SNB6+1ryEK3b5SkTMpkVuenaIF+8AmSUvWStW4hdViTzpd\n",
              "g84sR645FK2jeJKTLf9FSr9Sdfabjzk5et4vP0OoGD7nTwJCRX/lJnNCJBb6uhTI6bOIqSQPgaaM\n",
              "d+aXMEXCE9lFdH8DfaM3+6h98XQpeTVeC3KZsPQpnOllB8bAqxdpprvaGsddP2fRQtTCFWNn+JrZ\n",
              "MR/0mE0EhzaBtLik/voK5jQM08OA4UteESFlnabQKFJQe70Tn4R4SHRw/hi5kIz8gSXx+YfxpDbQ\n",
              "68kKJrIRemtNAEiXVWN0mVjqh91VO/4Ac5WTxXUXY7NCzIVq87mjoAeiJszICkHAzXpT5N2tHwYB\n",
              "ZfDxl1HilFZpPgQJwW4Z/6VYGacFlu4s6jzZN+xIwIL7H7tCZ1CRWf68Na2YYzGRQR2aWE3JbT54\n",
              "y1C4YAkn1g6iEtp8UsLwgQAAAtpBnshFETwz/wADG8Rnio2syB1qovPdjlABEHrwFXAt2z7B7Oj4\n",
              "usy///7+JfqnXFXeMVYoq6WlCX2hx1cwHMwHAzsyzEOVj8Y5a0D2WFqVYRQtYnoZDKnnjwDB9nN3\n",
              "Owy+MSZbzGjTqQCFw9reXZ6u/CFI95bvVgGRkuBCah4Sy+wcH2HdCa4mK0FOWtGdF5D9MNB2Ob/1\n",
              "u4jM/fHHB9gVH84RjY8i/OHH64JdJvEjra06lNk8aLrkpEMt2OlMqTxgmt3e/ypY944jY+WjhamG\n",
              "gzGJjEtl+saBjljB1L3zoBisTl6f8tWFvDxWTjeY1ebS6MZg3SZsFc2VJ/Hcu8kcr1lsROpOW7jS\n",
              "9hKQrh9XzPqsW0Lot4vEGbU97Kpu+brIjW65Py1TtoFxXTf94L9g5nGE0xG2AhG1e/cYXGxYUOld\n",
              "gSo8+Z6KSAo4VUGGn9MV5rqtAuRwTfskExZK/bUMeTUCrqzmJgoMQ5kGvLbfzmNveoVWbF5D39ws\n",
              "vfO/Uc6OD5voB0kd+RJyZUBRKs/8zUeCzHk5UJV6SPuoTkPlPaow8b0inUFUn1dkeswYD8s7cjpt\n",
              "TVzY1yg58vUsn/Q9YhEiJBSy0GOl7KQ9OI9k6GRVQDN/lzuKIn34Fahm09lx8RYytxRyNsPBJTQu\n",
              "s3KnAfnZt8+r7inoMPWqbLRB89HJHDMWqUjUDE76/nt5Ny71P9SFK7TTr6Uh91RuiWpTd7JZqd+g\n",
              "LJ8943YLouyMB1h1qj01IsCHIdCYI+mF/+NjZefeNHVUUsrSItpyER8nut8a0aOBuU3v4E1VZQeG\n",
              "oqV+Sf2asfQ9UD8a2DBIB/aUsFGNtVwN2+Au7tQwk5O3Mn8q82T9eN3WWrBX2J7fBerd2NJTOvF+\n",
              "DJbrF1zMGnUAuFkUpil8t72PEIOC/fI03Y+JLWmh281Wtso8A8qtNBGN+4bwG69CzVj9aHIfHpyq\n",
              "3aWgzFrld1OAAAACCAGe53RCvwAF0TGrB+VgxFWDKVT4ATt50WLMR0zeJd33MfMTEgE+xEcbRyHP\n",
              "cnV2B5+XMCKc3PPm10juyPs50Tq07Wck/1AHfPrmh7WAknWmCoc42CV1ZnT9mnFbUkWuOQjtwvuy\n",
              "hjHDEi0+/eckUGL/akpMqHBit0U7xSjQgFWP4St4xY4iHOCbOpLKVOyFhaZxbzM9QVPeyFPINI8o\n",
              "YoT8RAvuz5tVtMWyg0devrlt3+F1n5wtQXyUnIcyfT8vq2Ii6HycVForaMnJzP1c4aV5mQCwTjj2\n",
              "tgDJLCwT18ZboNaT8DpEevKAyVzYhThV58N2YD7B3YXKCXt6z9D1A7B8KYVUqmZnWpdFM/UGlSiW\n",
              "IqDMPfg0HgDFBOoGl3lItGDNITo54VB05MgHxz94DAWUuzT01B2JrL0rV2hP8wOsWZEhDjf8w50K\n",
              "jhVzDKG5fsbjgfewAKKmny/wv59r92kdZlGCJlsD3/65QW98jU8a2wuodacBYwWG1m9r2ojKuQzq\n",
              "y9RxKRM+MLPKqwdwHDGzx77h+tMCxN++2xo546uL3xhAjCIWA6sa3Zh8nRloUsTCn1oqdfpl1Hf3\n",
              "Jb4SQMXS7wntiSbyxfFGIYpmJTRoRqk4LrWelOLnoEKSuWNWsLOxKj27rjmrD5YVKvhcDg60WsjC\n",
              "tx87K6V1d4k2ykPy5YJ2sNN5amAAAAHDAZ7pakK/AAXSvcyA1YeOPT5NJ9BgoRo5FvrB/ehACE5x\n",
              "JaS9D9eIYVVgOrzlom6roG1OaGj8FmL0NVz+jASlfT8+E88S3yI5b8QM1i8MstwS+gsKXbDtcMZq\n",
              "iJhbNuNaKDrb9pU1N4Da/5rKf/AI392rrQJfnjMVCgdDXWuip03xpj+/AdzHDD2as8/g8EYGP3Ms\n",
              "KnisxR1YTGmmwTckAftZj+7otgEYFkp4WKudkVoJtI6xQ416DucP6CBTH8P5/wdSWfpA3UuMH6lZ\n",
              "3DXY6CqMXTTrxGXr/05H02khSIG9RAMimuWVKjrp944Crnb2SdiUjO5Q/CE2vBhRFw6LGFbIVLTX\n",
              "YrIFTdLUqsl9D6Lw42IJhyKQlxTpG93u5Ionz3qZLK7Mi5eHnW2Cpg+zNapH61ZjdUHdmxadkgqW\n",
              "Q0vfmBkwQiyZ2ti21xnGsE8eW24nRaBXB+lOOmQ0iPViKEz3VUyOxFGepABxU2N7A/p52eqlWC03\n",
              "Yqx0vbIRWBnBWQNl0qi9EzG4fBA4LmSJN4orTCmEWN6uzvT5/drLMmLE+ZAX3nGH1xosk5W38Y/J\n",
              "0Y89u5+I/nroUFId0b7VrmIywQAAAwtBmutJqEFomUwId//+qZYAA3pjALNrJgAvilN4oQC/e9Pp\n",
              "eTQ9gJZystCf4LrfPAvTRKkD2BYlgxubW5Nx5eLmdPbQbbPqp4h0SptyH+Qj/g2xxU/eCFj7nvH0\n",
              "i+hKZyXCmdc8xMKHGhmFytY/HsZdDp83GChbWForEA/GjZwT0ICDW+uBgLkINMx289im+nGuolxD\n",
              "vLOJLAjFq/oca1outA6Nk1o92h5u6os45umS+qtL8EDrl9koAXKpj9uMmDO48Q/uXWj4Tzrq0aVL\n",
              "uMmr/DxQTERvVlkWOfo1xiO16mfk3NOQzEHNC0J4wOYPp1K53FE85wyWinQDr3Oo185dzxqCwjC4\n",
              "h/97jZxSuowXpURwiwQiYV0j/0qULEVCk13rwf4gl2HG0beC/TZStRzeLaJc96DJH7Gnw7UhpQCG\n",
              "ISyvQ0arHxpm2ZDRQG3vor8PGKCjzn3deO8DhZ6QJtIUz04fQmANh0AP71/op+xBhoxEGjs0lBFt\n",
              "DEcPmoOAzgWLnnNI4k3e4Oe0gIGa1/NsMKYKR8VklcpNlNBWvPWS52Yg5lPJ6U5LUSUXSstOhKa/\n",
              "MqsqWOBdV0zfRyUGM+DicPKBBAy/N2hJCRbyvtQC1RKc/pUM7wYe0dE1QkcDDEHBJX/xM0Bp8aQl\n",
              "4g4FF8+DeD7XIySLay1Parr7fOivMP+oO1867ElrJovDR8vNgxsXjUnT1fe+RmrfP0/0Ei8MPwAx\n",
              "YA1qwGeHGT+0MtoyBKN3k/h8B5r5TxFyvPaH8thNcmpDziGg732DML3PPvay9/k8omuL4hfXl+sT\n",
              "wlfZGoR3rYU/uIn+hemGodO38Fa2XIj02Gbc0E5nXcA9/yAQKX2k+ylVQ68u8cKZmfcxRJ7zs3xp\n",
              "enXvVhgKttLGns5/fhJFvZ8hRFD1WNVU3El848iHSPtViVmrpfGk47zk0+7pWHanBOtVQIpzLDzQ\n",
              "RjTyTnhxZE6QahLtpHt3EWugDuw/h3iIcMMnP7c6eUK2zz2hLAzs9wkF+SJq2WSVt7IlwVse3+2J\n",
              "VdRRdQAABa5Bmw9J4QpSZTAhv/6nhAAG70T0hRlP9DwAOEMhfmG7+zD5ukuoV7+SW/LNuDwh1+q+\n",
              "TIJqlSH2BTIHAt7oG1iYQ0hhdUyNlJaxjK4R6cbkcRfXLU+3Kneud53eIKkYRNa2L7oDwvzmDVXW\n",
              "VXrHYiibWlELkuO+UUsGksfifswDVqPeolw2ZFaQy5PuTtVAyg4bE7Ob1Gky9GMYguaHNNIElrJm\n",
              "6+jBn4ZNTCqRgz5wn9rRrGf82zlimy0Liz9LG8xo0SNO+FwQW4+s0Bk0v2T2hT6NmzgyKqWDOUVM\n",
              "hKNGos8hoy19Nwvd7IGSpE1a7B4RGyCXFFQxMNjbuO4l6k1YfdfqZ9+NfZJ+0+nb+QjTqRhe2D43\n",
              "hexqkGpLsDi85eV7SyTJeGDGePR2WKjXtkpgEBGb+CnFx+adlMPCBj/YKmI4awXcgnra9JNMoIhm\n",
              "7xf/hP3yLOdcuIMkldEq7k5xywHKF8us8Rd0HeR+1lyE1ucfqqnQ12O9ZzjJkgAejcE9Jxx7m15D\n",
              "CuawsjWEdz8B4/2o/LiLA0jCmuYpRkOFoKN9//78MuJNbTBM8KcnG/v/pDH2tIzXrOwoWJd74KTR\n",
              "kHHRQHD9b4u8mMQ0wNe6RvQje26SmFj1NTpWkMaYfDfvBnkOWZb+VG59XWGj55vKp5Sfj9Rt8aFb\n",
              "I4RMDY2V2BcEp27SgFUTEI6mk8IgdYk2nHKZ6k7tvQNjqkdAlvB+3SxtxSNRumhJYOTqYF4wB3O6\n",
              "WMRoU4jN9oopRMa/mzTHPzuvWXnnbTEuALdgWcrHIrkxo0TWSPLFgd7INfULWw6vKrFRR3ECagPf\n",
              "r0UQHf8oXzyeGNa4DzzLPf4CG6LAlxCPVRkw3ICN4rYfwa+njBpuktGg5ACZeB6AZA3oYSh3MaeO\n",
              "a3EGJf47N298dQyVqtfJzW/dnvIbUNooVX+tHC0XMNMg1V3S/4NQI4SOjnS4Pm861P4kJlIkJEXP\n",
              "vYTIpIaSO4Pa20Ca0syHor9Qez/ougHIKZkoBCjN8sS0nlII7oKEv3TaPAd/bETlIm2Ka/pNt42T\n",
              "K6NkTnZac6jai7VOMNOcdsOk6p7prBLHhbdVCk2HDGRrijSMbEeeWRa8T42cWzSJtH7xTG5Fqx5J\n",
              "cOvAllc/LXH9ERPNdHmKwUkZt69DpwOiU07RqQUWz4U0ZCFxVTePsnf5DliaXoJmDOBL+Aw/f9sb\n",
              "1SzcGXfUJukLJu9fgi+l50xndgxBRH0Dsaqr3Sxh2QeUXDevBvQKcIWtx3f4BdruBK8JgvAQrAzh\n",
              "8W782Ne9Iy9+Hhha8KgLCF+OX+jNJLdLbFvbMCccAj62E0H5Hi/y36bMpn3275r9wOg/LZXTjx4q\n",
              "G2Dm5Jf9DIpKQSF7cLzSGrkXRFbL2YcUcdxE7Z6phsDzZR6ad6qru1a7/bv6kxUJwEgWjeyS0UZG\n",
              "d+uvyR7Ns/6l7A0vLYEozfKFXoohRoKTIfgUIRY1l7uEcwOJBmnbDD3T2MeC3FwTswNx6PU2Zr4Q\n",
              "1YD+24U9axzQPl6LIVV6xbbYE7JEKdmNkBCsC/6bUOfb5u//LZwUB8thk9xnCuXF0qz18wqfMaCq\n",
              "YDysemK2045fM/b4LpQg3gQc2BYWq7AdxUB+kcp0vQeOh9SGRZKyDnV0sk4CNb/VtFZURlA9/bRE\n",
              "Nkutoe2aUNNjgT1rNgPaufLIxbkE5jcI1wsKVbOvZyleQjamPonNX6v0CAxCbkZy3alf6+E9viu3\n",
              "jLEjy0UmfDQhStPb+qSgDCGa3AO84vQde5sifXh1j7eG/jmOOhgvltoAu1pzmqJUcv0/BLKpAp17\n",
              "/aj4AulrHcNEy5GymQaZ6EnzXU53YO3jHXdaH6Wq0B9wNGTLGlSA5R+pHJmmZIW5haYfTGGRsFGg\n",
              "cel/UYMRkJRW0WsuhKrM4iutBoPWPzSp2/W/erORz15eSf+tsAAAAgpBny1FNEwz/wADJJva503Q\n",
              "AlqCLMQylhh8IOFb90s/Q1VExfKaqz7x4cPMeZwZorSe7iZd3BC3D9fBp1rjkOWMiyAcZ+bxNhGm\n",
              "KCroC/IuHPuSNmrajAY4H+Ki8tYWx061uuGcl651H1K0E6dcfu9CYCn6DDRa1phhNZC3ur2ox+3N\n",
              "xZ9p9+l112hOkK+6Yv88XgZWvlxdYXGFXrvt7vvDkf06FX9rJK+wQh9/uAIBG6+Y0vwhzPP65ZQA\n",
              "nwuxLpSbWxZBofM+jX4TcpJ1aypDDkBYbaSkPFqGGG1puJ6b1/TmiFs4oYg6oNNMKAfy1WI+Rctx\n",
              "5HbSkoWNlHaX4xyaw/cJfUxZFWPJrfni+Q/7K5qbl0J8HckCylVoctTJH7fr7ok5ybKAzzpvseQ+\n",
              "PkMiDYMw4sOwM3JJQ+/hZNlL+C2WVNMqF43lIdFzvvhZb8l3YhtEQhomTI8qU1ce7hZdM/D82dK1\n",
              "+uDfwMWTL+9UtW2sp21RutD7B44IELRSfFdcQ0OEYmN4aw0kqNp2uP2N50HKM8ZIrDTTaDMb/OzM\n",
              "KOERl5dxORIlPF4nP5gZ19f4OvoyT9gGc5J2GlzsDXJ1Ki4aQfZZHFAqK7Rf2Av79c9KODcoIobP\n",
              "oaX273sFkV8rPFIhtCFclhTj7WrDo7ZsOj1fXtynv7qlF9s0rRtz55dCmYCpB7aWU2kAAAFTAZ9M\n",
              "dEK/AAXC3JXYgqS2bWz4T//L/PK+HJapmuWB+CKF36EAIOmoRjm2L2JJdST4GQpyQ4YmUQQfnTZs\n",
              "J2KAAXDLEP9RLtAsP1jEd1mqpXi/6ldbT/ednc8c7EZZB0VqokpSojWqE2h02m1Uz5QXtsCXmF/4\n",
              "++58VHaOqasCmgDuBh0KKpjlBZy1dnjTVmsjWLZ6SeMS13bfO54ActZ89mr5QT5KX9R9hp7FkFL0\n",
              "ducHUnoxHYGHgnh+hGN03FfPIhCH6vGInTxuC/ma2uoOBbNLcI0wXaaxCnl34+n74MNSV4LUYskD\n",
              "KfHpX4HOQNQFFynom6lIb9LgMpAHAsTkKV+FjvpooO6H5CRsIbtvtGs16IYNbLOq/zh/xULYs7QD\n",
              "G9gEKqReeAnmGXKWkd0aZNWXZh+bQrF9FFwvxNsFq5+K2gszu2/WjEikPU2EUkkSBsbhAAABGAGf\n",
              "TmpCvwAFwtx5ogoSn3DmR6WSs0SkvRgBD5MmFIeuESCoujFRhcw2b9SfZqleCoPTK+9IoyG+u0qU\n",
              "3F2jV+oKigrT5wozUV7qwtx40Q1gT4APj5a7l2XgmgeB+I9rl4gP4sKR7JCyQ5/NNUN6U2xJRKGD\n",
              "EKWKzj189bMybdkkPU7IJ3isl3QB0doKn0QFYO1Eq25Ca8vgPWYDxPxZvvNIMWYZncKy/3yDmiGu\n",
              "ZgHCIiiiGiy4+9G7gd+/7Mgc0z7f2idmgqtT1VhFJ2LzBNzXm18a2DdtC4AsEi8eykdcLIf+KIKh\n",
              "FAYhy0hvpM87EUOlYa5af9g2fwypYv056WuNTykl26+I1qQtHQYKwRj+Nl7766IJenkAAAKSQZtQ\n",
              "SahBaJlMCHf//qmWAAbyW62AE1e+W3EC7xMl3hC0vywDqAWJRDCV8TF3M8BP5zumCThZBDVnJTEe\n",
              "PkOj/DyuGXHI0Wo4wkiTCzvBQnXXfEu2BcPiD5FnTrWvQs9iVRo+U7Ja2E+XhiMcL79+gpFK+qrB\n",
              "wFhSMNuPJ5FjTjQaP2LjF6ct5t3MvkIvI8cyLpiye+shH18x32kjgEaDJ2u2TibihF29Bstn3v3H\n",
              "e5Tas5Yfvow96ZFKiZrPfPlCMbc3sBoD8uCLGgsI053pSiqiQLSjPC+J42LGaa3gbYSG9tqgtKBx\n",
              "5ACknsS+8ONQqcLhdMdAbHL23OzbKM7z6wDGppN/2OxgtSVnqzxM/sqi3Y1dBNTX7HM3MhPHEEA1\n",
              "nGdHGzVFiAEn6kNTUHLSxnVcVq6WWHPmrWMnxYhkEDTxrnYnfY1hKJJphSaqugfPMTsIwTOZXdSe\n",
              "KjCAMmludfX7Hmwx0+9Q8e9xRCp7JgPR0mXBZxw0vi+R4yuusfANuawAoSShjG/daqoqphpP9+oS\n",
              "QATT0kOkVTLxv0TnhhVnXKrFqarTC19cRg1SZrJSNXft4BVHQN+dEyUnwgTIFYRHs/w8++SOpQpw\n",
              "TELn3LfxQbY9yn8EvaH0/knYk0OLxRYZXZVRt0KwLMUD+wT+rv3RozgWY/cJib73S+S8nDP+6Ym6\n",
              "CMmY/CPuqzUr23/x2+XmuEkD3TOVcmdDkCjKzuxZZRZv4fmKlEv8BoLIhhSxRlygi4JPx0Szg4ct\n",
              "rHulMH6HLkTSI7qUtSWQ1gxZLU2wmf/5aS0RHvwkdLV9DR+BPK+t9ZGD7ydP6jw5nx0EHk1SsMod\n",
              "src1swSC7kHrZYerpeGKg79PfWVhtDs5o5IkEAAAAqFBm3FJ4QpSZTAh3/6plgAG8T9DpIu88AH9\n",
              "IYlYJC3IT18j/TArJJXRci4yrqR9BEYFVKBwQip0CzGCZbsuJ61hNuYhvCpQwUbsngadgqRA6Eal\n",
              "BimEeT63XiOrPWDfRZ40dwLYwX3nALB5FwCYIc2KWrm9B+5c34mDSIfKzRwhdkPryNa7csIUH4sY\n",
              "8f+Hhrm08N43bYv9nEDLrBe3dZTbq2tWkZqrV/Ye4K1EQmfwDeGE0ubNrXgT+pdWQhDhTRcxIiM2\n",
              "1bJ4eBI5UPn6P5TZ+9aKJz6ZAerX3N7djxH8vGMonMTOG9ZMPrsy4jN7MIsp3ygjJcFRknSNMSpO\n",
              "ucq1vMcsH3BUlJS9FEIQoPUsNA8XHbOPd5DsUQnbPRtAVg5Tv3VS/Q4ReE0DJsBYQ+CJwaeg2na6\n",
              "Z+fxPIQrzI5PwjIOEEIt199vj1+cCogdjFP0oVWFRsjETZWzuv1t/9wN72HDYDT2/g7r1+tC0CDl\n",
              "RAfqvVk/brdq896tJb9seZ0hQuUr/gTm4LfLpW/vXxloIs/XowEu6ZGXyrMJWrEOx9RcXxnuTv7B\n",
              "hWW8cQJJezpzFxAGNcyWcD/jpGp/9z9SNnplUkzg/ayuHNnEjctp+U9sC+oobz3sx29Y3qWXcqwt\n",
              "37VzUnY9zzCS1Ob/muELxhrATRb0OQYxqYrbzdkf1sOQOgqciPuneqekdGas4SqlG6v9RMgurF88\n",
              "m68oA8ebWDQBniZnswUZvvdRc034iLnaAfGLwjFZhRxZBJSeL3DhSmXPCPFcmOpWO11xrZQcjboZ\n",
              "rkSVOqPJXyMPeeYDqJZZfqNZahlNjRxSGaKTgxfBXDTiXMIvNlmTTubqIPHKc8+PpuAxnw2xkuMI\n",
              "6kBqUzqVArvCBYRt45wGImYjWFJgAAADPUGbk0nhDomUwU0TDv/+qZYABvFHQXrAuAD+kMRg7Qug\n",
              "D5IjACGqj7b7GptrdiUfIr0CTeGrKyl5iba3wCiRXzsbIFupawMJKR+tP7iJtydkLW7pO428Ar9J\n",
              "w5DYm0eNNYFxPY7LOzeCMHDZKvpcUYoPKAGAvpfOSyEzjqXrKuEdgiiNrZosrekzYu29q+loegnD\n",
              "PEhKu+1aY50Mk3aPXjL6f6SrqcSfut3+AIQDqP5wFlu9FPj7g3eBLWsIc1XlW+G8z+66JbML7a1u\n",
              "72YrCt1PqUa/6EyRTe1e8ipsivDL5AC2r6nKfqYwau/fpQ7BuTIhcD5yMm2qcEqaOW7ABu9UbMFO\n",
              "m9v7bueyCXevvaNq1REx9EWPz9Pg6AC5qEQU85X90hKAcFdmWmOwKWtUrPZ1snqkrGVdNgsilPaM\n",
              "rwJ/6/U5CgvXGWzPXiPky8UElEpgrsCh27o58V/7nkpuGCRmc96S8IRKdYtwY5Q3y9JKS7GIB1Vp\n",
              "asrTXfkyLYGGRReltZUbtJN/WrALRjz5659efblF7THoZZ559/+2KWOamwqgWTs+8XaGTfYk/2n1\n",
              "o3oGIUeGibyZMkrMxXO4V336R2u+aVdP9xZ/y+OPRrxR7XIMRXbzoPs+W7vmQTMNah2did30yg/R\n",
              "jemSlRkTDd+unW2vpfr+WuMKvVGQqisETk905CeEwFweuezkftxTlOL27c+mwAY3746buRJtXXeK\n",
              "utkKCa3I5uFAYRvppxTcNb1Xfnv/ECETfyPkKlxC1VixNvc74tHqp1W9adTx/E1IeE2n6MkerHt2\n",
              "OePexTUCeem9FHN0IPgtyFuVzCZ5CP+jO7zTovQ+1tvESgR2Ql2foYT3uNwyb5ennEHwomlHG6d+\n",
              "jJRag/d6K6+Q25KxnrvfptOn6XyDjf4NqzRIb53077vlTvfJlloCfDtXLlGfHtCJ6FEfwmlQlWvo\n",
              "7Q8vtj52Vmw8DagiwNMnbTPAVzZ5yTwdzIFwcI6GwpngJNJtgHftXS4Z+9tz+EntkGzatXHnfsL9\n",
              "QMEFUIYgwGrsoRd8cegqoB1hdAMJyho0eszWOVKacxCBs7YBhRI+YM78DPnA7+bYcg34e5leHWcA\n",
              "AACjAZ+yakK/AAs3FpVbcAA/iIIA9JdoS4rjM7Mkw5bI5+fLyRVMQ7gDIKQInj8m8zRHKSQp5HiC\n",
              "iQOo+3V0SMARdQspaPxydPinDAm4Mvl5RmHaHIr2pzYSaG3A6z1cYrR1D8uetHiqympedYQtWE+1\n",
              "nhSLc6Xda/dXSC2dlnw0I5YhnCJAB5c/vG1my3g32tArfRJ2Er4cPqcrR4Xb+Wbwoy2ECwAAAwBB\n",
              "m7VJ4Q8mUwU8P//+qZYABvFmR2BZ1UAFyfPBZJl+AsIao2gDMkyC6dCQ4N5Os/eVnswWjRJIbXZA\n",
              "Aa54qrhZkSAZoeYh/fmfExnAseOxMj2iekRvg+6pvjyJmixhIP9Mk+Q3mtk4HhMKB3yVmX43Cb2U\n",
              "orttpGGWhB2hbWNF43ZLO2JbC3fkK7PjFX7GAeY4QJGItgvVFiQMYYhZXR6iJjoYtlkC19ec/rQT\n",
              "UlgPj1kCk0QaQgSAU5qvOkT/GLE8dQvo/YOCLPXlHL8JJ34JyNNPQfYG02aqu7gRhSOaLOTmCMqk\n",
              "OTbhNc4ML2nJmldXeui0y5GxHdarxNiymqRWgNVxml4WAKgUT2FiRf6R2Y2SqzG43nKXw9NEK6ra\n",
              "qiTh71hdcw656/z/fyO9l6723aSgH6mIoUpzoXrRCEk5gKpVqMfcJn8mUwZy6+wmL2KmVyx3FRfF\n",
              "XmzShvxg2/zpGiiDb+8yzTK/47wLDCga929oIGSJwHdYGLPfwekOM/zSF0WHWEaLk//ulVVXarLK\n",
              "olHS+1GD/dvCpYTsjO0/xk0+7WXI1dODjB5PVksw5jZcBmopnO14qU2XJYXdi64GUS/qDl2GxgwE\n",
              "WJUYr4ImvhYtw16npfAhgtEtiPk9Om40zVcvxsnp9hqRZgARbjw0QNncmq+lGDp8wcLgAagPY+Va\n",
              "TtWCSITrK5iRMDryfl/A8H+wo2yby7kBTxrWvFnKudBdHYAEMGMQf5eLO9ZHj6h71HhSlnYPpfGh\n",
              "SL78VLgKlx6uQYyKBW9XSBT//pLDHMWN3htEIAFc57GucZv4CE/ORhcpZQTife489L/Da4ZpyrnC\n",
              "riUVcg3l/OBYhsP74iBb2KcyHVk54tPaK7ct8lgG53Ke+jNbtyyRjq/Pp+L7MO0/W01TGzul+hL3\n",
              "lo9C/HX9CYKQ8j9hBawmFe89dFmfXVtfOKR0TBCS78J7EKqAtLmDLoRxoxpb+it6G9MaRQuJGylW\n",
              "JuY3KqrmgOCHiHAk9nOGyK5FTnE9HNIz34AAAABsAZ/UakK/AAs3FpgcxACYF/esm28UepWFuyLL\n",
              "pGhypslqORb1UZD0o/e01mEWuOSJkVVc7kTU4qCBFwAIkM4LExyhgE5XBJO7zxFZZWJht9HIGtNS\n",
              "aRobJLhK5XVQldKlMyCEEZ4X/GuN8D1BAAADXEGb2UnhDyZTAh///qmWAAbxZlqVygANlwe/D0dN\n",
              "oxg/vmdtIGlVqVMW0hyGEP7PECPaS7TYR+N/bP95z6KZwwXJgVASRrGY/F3vKKcWJlHm4rHJGfvW\n",
              "OaKy1d6MELl4cCwSK/d2uQtaOc+/wCeukcp8BhvpbpkbNfScDK689z7RVPmjKDzcHU9FF7KL13Hq\n",
              "MzjjR6RcZD43I4u9+ukukThp/9lclwjYhZ1f0K3pE2biVOT2pYktR3tVZq7ilwcy4uqLODkXXeco\n",
              "nHI3Bb88QqqbPykPtiARBGrlMHBm0YlNbALv+OpQF9v8Z+ObU0PjEONCuk493FE3esZHTVNdcZAM\n",
              "iJfms4N79YkU6UCJsQ1mPInXWqHIf7Lbh7yvJ25TieTgiperb7DhdUI43SMsLr+BZ7nIrsmCmsh1\n",
              "8CocZN2f2/CTXT10Ze030lhub2fTrD6097bU8JAsuNr2h/ejFYzMzCX16NZkavrUK6Jai6DysCNK\n",
              "XtYP34gA4fyIx1R0v0OhbwnRpdTxN9+UVpM0lUnULmnvnOOKLUQyNjwk/WHUSI95SNwo0WrezGfk\n",
              "PIrutxHgD9KYGCpLfapHskyeDThiyJq6RbZSARZZo2VbSLzvY/trrlsgce/hZwsoLwzXbDGH5Snv\n",
              "guk4M1KoRGADfakTlURqh9aGctHabdSla7vcZBJXxXEKNsHoC88zKU0lf4UNr5tyT0IUcyI3YrdF\n",
              "DXLL+493N2lDSxkY74QBo3UYotvJI5+q6ZDPUBCu+qdSSRkaz4cf4WuUZv22T3gv9iygzLrSruuB\n",
              "xAv3Qp2AJ/d6eaqISOfZbC4R1C01rZQ+c8n2mpuQmWqxgn8JvDxt6qd+gv+CZkdiCvNNVitNB+u7\n",
              "norENTtT73Mp7LxzfyIuaagqi2yPCzBr7/9nFmEKSINIp0/yWrWrZwQVSYS/wXffW+ED1WOUbQLb\n",
              "P8v6U7uE3AwrJIBOIubZpMaBGuARvzA4J6roVNlI4qV6yLORnKdCsvaQAmNl+/YdFYEbmdmLc/sG\n",
              "s+gI4atr2/+fH8Om9/UVwp3bsuksUWASpwGZAXQQX3xa0SOx+P9OPBAukSGB17hWey+tdLC1wrKk\n",
              "4EOmWaRuC7GkcgiwgR1dDHAgISFD5zJLpwmtOTtRNEVAAAAAxkGf90URPDP/AAYL6eVzIcAE1eBD\n",
              "Z+VjiZHK1Z1UUo5SLW3t7ftc08UbL6tt6u061DU3+DEfso+CgSJMXa4gaqgOn4yyxC5Fw4A0UVF2\n",
              "EoRQR9IjtAk/oXvmE7E6pU+tSyVVM/Nnb2khAt4oColNsUq+GXi6m5uHVKrxRAFFhGPuuJZsAmVo\n",
              "vpK4nO3Ki1CtvHLduodxOuTXcch5Qg3RzMZ5xComTc2ZIQo56YYsINTfqlr9IeViNZwWsSidrb0g\n",
              "lLZiZQbcYQAAAFIBnhZ0Qr8ACzcV0IOUFLOkrSiUAJGStRNNNMy2fZEJRZHjVm5ANwDFfrSPRGNp\n",
              "BfHHSUhHbWYKz28C0RHABt2MnZylh5ICTNDNj11HPONzAZqhAAAAMAGeGGpCvwALNwQgCoadcub2\n",
              "nBFn+7HE2VRzo68T7AmZb+HIyNQNTOXvWid/j0bW4AAAAqlBmh1JqEFomUwIf//+qZYABvFoDi6c\n",
              "/gBx7bEr6VRqxT5mJ/+p2G5VuA7Zq/nZMt5RV67mPOxJ+ws6zaP77UD7QkgI8/mdmIdhLo9vLc9/\n",
              "xl4tfPn+4ECWN1DraMdoiqhMuBBzMvTLxF6Amk2WczXWDBH45o6bPh3r2f7zzIgu+62QRUuD3/Cd\n",
              "zy1x4CuPJMY7djIFs3eAOmo38cxWnDNs5K5DFnd9JFuBka1WKYY82tgGO+DUpHQ4Gud7NpBU3SZq\n",
              "BZRjZ9BBoqRzzr6wjA5nK5FwBbBm2XFcbkd901feFWsirGDLzLkGVYOydNOJtWaCuKamn+oxfjwf\n",
              "IpBsfjFOv8D5luqXy31qQBkvPgq7pfGRRa325cZUSgIRWgLCJsygTnBKDiLPilOzAxNSj9V24BZY\n",
              "aRxPA6/v9gT0yiFtdkDL/d9j8Psh/QDGbbrhjM+E1gTqFuiU3ZnUWlZJ67sfSRtMHn+AQ58VVQiD\n",
              "zJkFBK/5UofSYfg3GW21Tyv49IKCA7iMsq+Efp007mafPxbfCItISy9OwUh0mRZO/8Py9XkgiD4b\n",
              "ebDIjwEfdlkiWbMwJ8MZtASaJNVeaBzKRNxgl6YnX+TcxQeXaUxXUQQ74KUQRi9CGOpQlWlq2XvL\n",
              "bToIjOvNzhUx4UMeUE3YkYVCcDg3WZnAK+gDWqmDweOzYhEmGR47ckRYOYxwQDhy9w8Ps+5lGlWM\n",
              "JxPXWqdWUva52r7mZwUlRWVh9xvTC79aDsRCm/f9QjcQnzGqW58bjLP6GVlrlhRT9tYkoRmhS299\n",
              "L0TEfWOA06jXnErxPuCB8/YJoiWI8zfROuICnhU9t9GGQ6F404Gkme0Wo6TAo5E6a5szX14IN3M/\n",
              "KxPjiZJhfHo4NR0xWCPgA6yxkhnm990sqD5O2SC8wEkAAABgQZ47RREsM/8ABguzL9mzaJhYn0CH\n",
              "ABWUAiY1/cvHBPqydUDCniQfpWES4ACBDWUb78ZZ5PLrjNeOC3KC/q+Q9/JxlRgn8FEdxEADfeJZ\n",
              "5D8EhUxlh1cV0ctwZ2AMhDLQAAAAIwGeWnRCvwACxUVFD5dmyeXTQL5tfPRMKdxy5tfk57E0kaW1\n",
              "AAAAIgGeXGpCvwACxHuOcx24VpAXovGfnWVgflKGOSK+TQdGe28AAAHzQZpBSahBbJlMCH///qmW\n",
              "AAbxaDVBEgNQA4tlLevp4SfHtJGhWuWCLyvW70Tl1VkAaoLjOWTcvjslj/PC9Kd4mmS+iIh9Tpnm\n",
              "fb01JwULt7itAzbpgl2Nccqg6+HQXfHIymQtyjcLa4U4oBowvMLxVs41hQfJ+cxsYo1Exdw2KOJS\n",
              "sW0MATjuv9orcp8jYISLBQ9q3DUV1NDrodsZ///d2nI3kRUxLnoyVeAg+FquLc3FmBjs5ewcTJ29\n",
              "0IJfviwQt0maJ1z1nRX+8c3+1YyeCdLzVAMY+FN+Yvbgdxi5+jxpMl0mtWbfreG9eVfnqMZfL6Wb\n",
              "Wgk41SAroMLvMQCdUEbREAxSHVzYIqtHShkeQPAKwWzxGtQMDywgW7rRm10dXJsLfgUUtSeIOoXA\n",
              "r5jyNXGTaWdyOEPYtt11ZNZDqRqFhnPWJqnLTTE76xHq4XRYl02nLnrczRgnMe7afu+2s4q+AM/N\n",
              "vAMj7F3MoO0+0onb5EsU4PwsR4oTxaqXcehPiGODxD4H+dDrhz9OMWS1lE6V3LyCnoa+SerKKObu\n",
              "9Arlv05ganRewFgkVZEWpd33Zt1nrCfrI+PI6zv6fI78m0/2eaci7qIR3ZIcZ9bd5yknGZrqRDDk\n",
              "fnPviKh91r/+s5V3Uhc7KDh3FE3BKAlaY6fy4AAAACxBnn9FFSwz/wABfdNZzuEQsL3Tw2IFVyeb\n",
              "+HarUf5//Pvm2OV4zHimVxP5KAAAAB0Bnp50Qr8AAmro1YRVtIDZFugWDuc/uypGaj/l3QAAABkB\n",
              "noBqQr8AC1tQAzlQaMoCzU2Q5ORAnBSAAAABX0GahUmoQWyZTAh3//6plgAG8Tc3cXoAjIQ2sZDk\n",
              "jF8lukGGUbI1u2xAdQuj+xz3s1MxBG5uw10S2tgbpfgIscIJbdbYkGCnr2mZh+Zhu3aEHmGSBcze\n",
              "Of9MNMh4ZWqhiuXTzukGD9k+6vg6M06RZX2pGpxaX3leFX9DNGtHwAQ/9/LbY3Vxo4WvTKD7JJfh\n",
              "lVvTI4gKt6g0Ton2/NXrxqh4mwbxWW4elYImDqS8FY4pHx/C2dp+vPlt//aE0UYq+CTuvcwxNfTa\n",
              "+PbYKXj8aNFyZzj266xXuFbvVWn73j/yIKayd+0wxA7Q6BNtS9er/vRwSmLmx8rfpWXEKbI04lf/\n",
              "vkkMrXan+A7HWz5MtbPMZJYaG28RRCmTeb4K6AIfGCNw1auUEb9Nb54jYONO+v7r7gn0Y2O0fZgg\n",
              "azA2gkFgT2yjiiKiJRBT2k/OPvwdhKwPHsn0oheo90CTMtZtxQAAAB5BnqNFFSwz/wABfdNbkpAl\n",
              "axSb469X5OvHT9DkCsgAAAAWAZ7CdEK/AAJq6G8vdCGOzuF74ZL9bwAAABIBnsRqQr8AAmuv8HuE\n",
              "ZSWpUF8AAADJQZrJSahBbJlMCHf//qmWAAbxNzbuSAFrt1YpbAdfd9M9FJKfMc4xWmgUWGOSbs7c\n",
              "mMWWQ86E+oj8oK4waHshOoQ9gQipDX1Axon4S0kjq4C8ie/41a6VCXIlyxyQlE3dgmuSLdHCdNds\n",
              "vevOCADPht4Wg+hQre5Ndu6GxNhoCNhzy10b2QD5DLvtNhX4HGURc3FuLT4ZM3l8Hm9VecaKloDz\n",
              "zUjUG/J9mB9p9ftB7+akS+ynRwgxs2hONKnX0GjJR/kS+CSOuwVNAAAAGUGe50UVLDP/AAF901uS\n",
              "j3UBhAPZSTcCIQ8AAAATAZ8GdEK/AAJq6GialSMeujbvIAAAABMBnwhqQr8AAmuv734w1ymO5WRA\n",
              "AAAARUGbDUmoQWyZTAhv//6nhAANzJQ6gBHF6uT1GUdUrs9Md1Cc8+xGkzdeFp2MaQ1/uWapLCxA\n",
              "eZrujDliAHZweLPGdE4MvQAAABhBnytFFSwz/wABfdNbko9k18RYIYC3EKgAAAATAZ9KdEK/AAJq\n",
              "6G8qUyfeujbvIAAAABEBn0xqQr8AAmuv73LqeKbJ0QAAABNBm1FJqEFsmUwIV//+OEAAABxxAAAA\n",
              "GEGfb0UVLDP/AAF901uSj2Sn5/y0J5PQnwAAAA8Bn450Qr8AAmroZw6lQhAAAAASAZ+QakK/AAJr\n",
              "r+92xlvvZ/agAAAFdm1vb3YAAABsbXZoZAAAAAAAAAAAAAAAAAAAA+gAAAnEAAEAAAEAAAAAAAAA\n",
              "AAAAAAABAAAAAAAAAAAAAAAAAAAAAQAAAAAAAAAAAAAAAAAAQAAAAAAAAAAAAAAAAAAAAAAAAAAA\n",
              "AAAAAAAAAAAAAAIAAASgdHJhawAAAFx0a2hkAAAAAwAAAAAAAAAAAAAAAQAAAAAAAAnEAAAAAAAA\n",
              "AAAAAAAAAAAAAAABAAAAAAAAAAAAAAAAAAAAAQAAAAAAAAAAAAAAAAAAQAAAAAGwAAABIAAAAAAA\n",
              "JGVkdHMAAAAcZWxzdAAAAAAAAAABAAAJxAAABAAAAQAAAAAEGG1kaWEAAAAgbWRoZAAAAAAAAAAA\n",
              "AAAAAAAAKAAAAGQAVcQAAAAAAC1oZGxyAAAAAAAAAAB2aWRlAAAAAAAAAAAAAAAAVmlkZW9IYW5k\n",
              "bGVyAAAAA8NtaW5mAAAAFHZtaGQAAAABAAAAAAAAAAAAAAAkZGluZgAAABxkcmVmAAAAAAAAAAEA\n",
              "AAAMdXJsIAAAAAEAAAODc3RibAAAALNzdHNkAAAAAAAAAAEAAACjYXZjMQAAAAAAAAABAAAAAAAA\n",
              "AAAAAAAAAAAAAAGwASAASAAAAEgAAAAAAAAAAQAAAAAAAAAAAAAAAAAAAAAAAAAAAAAAAAAAAAAA\n",
              "AAAAABj//wAAADFhdmNDAWQAFf/hABhnZAAVrNlBsJaEAAADAAQAAAMAoDxYtlgBAAZo6+PLIsAA\n",
              "AAAcdXVpZGtoQPJfJE/FujmlG88DI/MAAAAAAAAAGHN0dHMAAAAAAAAAAQAAADIAAAIAAAAAFHN0\n",
              "c3MAAAAAAAAAAQAAAAEAAAGQY3R0cwAAAAAAAAAwAAAAAQAABAAAAAABAAAIAAAAAAIAAAIAAAAA\n",
              "AQAABgAAAAABAAACAAAAAAEAAAQAAAAAAQAACgAAAAABAAAEAAAAAAEAAAAAAAAAAQAAAgAAAAAB\n",
              "AAAEAAAAAAEAAAoAAAAAAQAABAAAAAABAAAAAAAAAAEAAAIAAAAAAgAABAAAAAABAAAGAAAAAAEA\n",
              "AAIAAAAAAQAABgAAAAABAAACAAAAAAEAAAoAAAAAAQAABAAAAAABAAAAAAAAAAEAAAIAAAAAAQAA\n",
              "CgAAAAABAAAEAAAAAAEAAAAAAAAAAQAAAgAAAAABAAAKAAAAAAEAAAQAAAAAAQAAAAAAAAABAAAC\n",
              "AAAAAAEAAAoAAAAAAQAABAAAAAABAAAAAAAAAAEAAAIAAAAAAQAACgAAAAABAAAEAAAAAAEAAAAA\n",
              "AAAAAQAAAgAAAAABAAAKAAAAAAEAAAQAAAAAAQAAAAAAAAABAAACAAAAAAEAAAoAAAAAAQAABAAA\n",
              "AAABAAAAAAAAAAEAAAIAAAAAHHN0c2MAAAAAAAAAAQAAAAEAAAAyAAAAAQAAANxzdHN6AAAAAAAA\n",
              "AAAAAAAyAAAqRQAABl8AAAPYAAAC6wAAAqEAAAJ8AAAC0AAABV0AAALeAAACDAAAAccAAAMPAAAF\n",
              "sgAAAg4AAAFXAAABHAAAApYAAAKlAAADQQAAAKcAAAMEAAAAcAAAA2AAAADKAAAAVgAAADQAAAKt\n",
              "AAAAZAAAACcAAAAmAAAB9wAAADAAAAAhAAAAHQAAAWMAAAAiAAAAGgAAABYAAADNAAAAHQAAABcA\n",
              "AAAXAAAASQAAABwAAAAXAAAAFQAAABcAAAAcAAAAEwAAABYAAAAUc3RjbwAAAAAAAAABAAAALAAA\n",
              "AGJ1ZHRhAAAAWm1ldGEAAAAAAAAAIWhkbHIAAAAAAAAAAG1kaXJhcHBsAAAAAAAAAAAAAAAALWls\n",
              "c3QAAAAlqXRvbwAAAB1kYXRhAAAAAQAAAABMYXZmNTcuODMuMTAw\n",
              "\">\n",
              "  Your browser does not support the video tag.\n",
              "</video>"
            ],
            "text/plain": [
              "<IPython.core.display.HTML object>"
            ]
          },
          "metadata": {
            "tags": []
          },
          "execution_count": 68
        },
        {
          "output_type": "display_data",
          "data": {
            "image/png": "[encoded data removed]",
            "text/plain": [
              "<Figure size 432x288 with 1 Axes>"
            ]
          },
          "metadata": {
            "tags": [],
            "needs_background": "light"
          }
        }
      ]
    },
    {
      "cell_type": "code",
      "metadata": {
        "id": "pnIi18aj8fdA",
        "colab_type": "code",
        "colab": {
          "base_uri": "https://localhost:8080/",
          "height": 282
        },
        "outputId": "278efc52-197c-4359-ba9a-7c1f5704297a"
      },
      "source": [
        "plt.scatter(xtrain,ytrain,color='c')\n",
        "plt.plot(xtrain,m*xtrain+c,color='r')"
      ],
      "execution_count": 69,
      "outputs": [
        {
          "output_type": "execute_result",
          "data": {
            "text/plain": [
              "[<matplotlib.lines.Line2D at 0x7f10c1947dd8>]"
            ]
          },
          "metadata": {
            "tags": []
          },
          "execution_count": 69
        },
        {
          "output_type": "display_data",
          "data": {
            "image/png": "[encoded data removed]",
            "text/plain": [
              "<Figure size 432x288 with 1 Axes>"
            ]
          },
          "metadata": {
            "tags": [],
            "needs_background": "light"
          }
        }
      ]
    },
    {
      "cell_type": "code",
      "metadata": {
        "id": "8EU7YEqD-8Dp",
        "colab_type": "code",
        "colab": {
          "base_uri": "https://localhost:8080/",
          "height": 296
        },
        "outputId": "667afa96-4be1-46fe-c9f7-8777763fe9ef"
      },
      "source": [
        "plt.plot(np.arange(len(error_values)),error_values)\n",
        "plt.ylabel('Error')\n",
        "plt.xlabel('Iterations')"
      ],
      "execution_count": 70,
      "outputs": [
        {
          "output_type": "execute_result",
          "data": {
            "text/plain": [
              "Text(0.5, 0, 'Iterations')"
            ]
          },
          "metadata": {
            "tags": []
          },
          "execution_count": 70
        },
        {
          "output_type": "display_data",
          "data": {
            "image/png": "[encoded data removed]",
            "text/plain": [
              "<Figure size 432x288 with 1 Axes>"
            ]
          },
          "metadata": {
            "tags": [],
            "needs_background": "light"
          }
        }
      ]
    },
    {
      "cell_type": "code",
      "metadata": {
        "id": "yYJH4TSf_J6A",
        "colab_type": "code",
        "colab": {
          "base_uri": "https://localhost:8080/",
          "height": 34
        },
        "outputId": "b71d47d4-293b-435d-83a2-7b995ee45fc8"
      },
      "source": [
        "predicted = (m*xtest)+c\n",
        "mean_squared_error(ytest,predicted)"
      ],
      "execution_count": 71,
      "outputs": [
        {
          "output_type": "execute_result",
          "data": {
            "text/plain": [
              "0.01976419987654067"
            ]
          },
          "metadata": {
            "tags": []
          },
          "execution_count": 71
        }
      ]
    },
    {
      "cell_type": "code",
      "metadata": {
        "id": "jzeUPopW_SFh",
        "colab_type": "code",
        "colab": {
          "base_uri": "https://localhost:8080/",
          "height": 204
        },
        "outputId": "c390306c-786c-4a88-8f86-84009edea7b3"
      },
      "source": [
        "p = pd.DataFrame(list(zip(xtest,ytest,predicted)),columns=['x','target_y','predicted'])\n",
        "p.head() "
      ],
      "execution_count": 72,
      "outputs": [
        {
          "output_type": "execute_result",
          "data": {
            "text/html": [
              "<div>\n",
              "<style scoped>\n",
              "    .dataframe tbody tr th:only-of-type {\n",
              "        vertical-align: middle;\n",
              "    }\n",
              "\n",
              "    .dataframe tbody tr th {\n",
              "        vertical-align: top;\n",
              "    }\n",
              "\n",
              "    .dataframe thead th {\n",
              "        text-align: right;\n",
              "    }\n",
              "</style>\n",
              "<table border=\"1\" class=\"dataframe\">\n",
              "  <thead>\n",
              "    <tr style=\"text-align: right;\">\n",
              "      <th></th>\n",
              "      <th>x</th>\n",
              "      <th>target_y</th>\n",
              "      <th>predicted</th>\n",
              "    </tr>\n",
              "  </thead>\n",
              "  <tbody>\n",
              "    <tr>\n",
              "      <th>0</th>\n",
              "      <td>0.425773</td>\n",
              "      <td>0.148889</td>\n",
              "      <td>0.298083</td>\n",
              "    </tr>\n",
              "    <tr>\n",
              "      <th>1</th>\n",
              "      <td>0.081678</td>\n",
              "      <td>0.566667</td>\n",
              "      <td>0.555790</td>\n",
              "    </tr>\n",
              "    <tr>\n",
              "      <th>2</th>\n",
              "      <td>0.092439</td>\n",
              "      <td>0.435556</td>\n",
              "      <td>0.547730</td>\n",
              "    </tr>\n",
              "    <tr>\n",
              "      <th>3</th>\n",
              "      <td>0.078918</td>\n",
              "      <td>0.806667</td>\n",
              "      <td>0.557857</td>\n",
              "    </tr>\n",
              "    <tr>\n",
              "      <th>4</th>\n",
              "      <td>0.060430</td>\n",
              "      <td>0.926667</td>\n",
              "      <td>0.571703</td>\n",
              "    </tr>\n",
              "  </tbody>\n",
              "</table>\n",
              "</div>"
            ],
            "text/plain": [
              "          x  target_y  predicted\n",
              "0  0.425773  0.148889   0.298083\n",
              "1  0.081678  0.566667   0.555790\n",
              "2  0.092439  0.435556   0.547730\n",
              "3  0.078918  0.806667   0.557857\n",
              "4  0.060430  0.926667   0.571703"
            ]
          },
          "metadata": {
            "tags": []
          },
          "execution_count": 72
        }
      ]
    },
    {
      "cell_type": "code",
      "metadata": {
        "id": "URx0Vajy_egB",
        "colab_type": "code",
        "colab": {
          "base_uri": "https://localhost:8080/",
          "height": 204
        },
        "outputId": "3bcd6771-e68b-48d1-d72a-09091567ecee"
      },
      "source": [
        "predicted = predicted.reshape(-1,1)\n",
        "xtest= xtest.reshape(-1,1)\n",
        "ytest = ytest.reshape(-1,1)\n",
        "\n",
        "xtest_scaled = x_scaler.inverse_transform(xtest)\n",
        "ytest_scaled = y_scaler.inverse_transform(ytest)\n",
        "\n",
        "predicted_scaled = y_scaler.inverse_transform(predicted)\n",
        "\n",
        "xtest_scaled = xtest_scaled[:,-1]\n",
        "ytest_scaled = ytest_scaled[:,-1]\n",
        "predicted_scaled = predicted_scaled[:,-1]\n",
        "accur = 100-(abs(predicted_scaled-ytest_scaled)/ytest_scaled)*100\n",
        "p = pd.DataFrame(list(zip(xtest_scaled,ytest_scaled,predicted_scaled,accur)),columns=[\"x\",'target_y',\"predicted\",'Accuracy'])\n",
        "p = p.round(decimals = 2)\n",
        "p.head() \n"
      ],
      "execution_count": 73,
      "outputs": [
        {
          "output_type": "execute_result",
          "data": {
            "text/html": [
              "<div>\n",
              "<style scoped>\n",
              "    .dataframe tbody tr th:only-of-type {\n",
              "        vertical-align: middle;\n",
              "    }\n",
              "\n",
              "    .dataframe tbody tr th {\n",
              "        vertical-align: top;\n",
              "    }\n",
              "\n",
              "    .dataframe thead th {\n",
              "        text-align: right;\n",
              "    }\n",
              "</style>\n",
              "<table border=\"1\" class=\"dataframe\">\n",
              "  <thead>\n",
              "    <tr style=\"text-align: right;\">\n",
              "      <th></th>\n",
              "      <th>x</th>\n",
              "      <th>target_y</th>\n",
              "      <th>predicted</th>\n",
              "      <th>Accuracy</th>\n",
              "    </tr>\n",
              "  </thead>\n",
              "  <tbody>\n",
              "    <tr>\n",
              "      <th>0</th>\n",
              "      <td>17.16</td>\n",
              "      <td>11.7</td>\n",
              "      <td>18.41</td>\n",
              "      <td>42.62</td>\n",
              "    </tr>\n",
              "    <tr>\n",
              "      <th>1</th>\n",
              "      <td>4.69</td>\n",
              "      <td>30.5</td>\n",
              "      <td>30.01</td>\n",
              "      <td>98.40</td>\n",
              "    </tr>\n",
              "    <tr>\n",
              "      <th>2</th>\n",
              "      <td>5.08</td>\n",
              "      <td>24.6</td>\n",
              "      <td>29.65</td>\n",
              "      <td>79.48</td>\n",
              "    </tr>\n",
              "    <tr>\n",
              "      <th>3</th>\n",
              "      <td>4.59</td>\n",
              "      <td>41.3</td>\n",
              "      <td>30.10</td>\n",
              "      <td>72.89</td>\n",
              "    </tr>\n",
              "    <tr>\n",
              "      <th>4</th>\n",
              "      <td>3.92</td>\n",
              "      <td>46.7</td>\n",
              "      <td>30.73</td>\n",
              "      <td>65.80</td>\n",
              "    </tr>\n",
              "  </tbody>\n",
              "</table>\n",
              "</div>"
            ],
            "text/plain": [
              "       x  target_y  predicted  Accuracy\n",
              "0  17.16      11.7      18.41     42.62\n",
              "1   4.69      30.5      30.01     98.40\n",
              "2   5.08      24.6      29.65     79.48\n",
              "3   4.59      41.3      30.10     72.89\n",
              "4   3.92      46.7      30.73     65.80"
            ]
          },
          "metadata": {
            "tags": []
          },
          "execution_count": 73
        }
      ]
    },
    {
      "cell_type": "code",
      "metadata": {
        "id": "ScFzJSqpAwrV",
        "colab_type": "code",
        "colab": {
          "base_uri": "https://localhost:8080/",
          "height": 34
        },
        "outputId": "fae4ab9b-adeb-42f3-e29b-7204182c09b0"
      },
      "source": [
        "print(sum(accur)/accur.size)"
      ],
      "execution_count": 74,
      "outputs": [
        {
          "output_type": "stream",
          "text": [
            "79.15933366758819\n"
          ],
          "name": "stdout"
        }
      ]
    }
  ]
}